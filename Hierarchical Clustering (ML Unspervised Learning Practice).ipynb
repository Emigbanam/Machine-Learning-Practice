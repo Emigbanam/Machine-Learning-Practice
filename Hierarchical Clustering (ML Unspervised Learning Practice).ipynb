{
 "cells": [
  {
   "metadata": {},
   "cell_type": "markdown",
   "source": [
    "Visualizing Hierarchies\n",
    "----\n",
    "Visualizations help data scientists communicate insights, especially to non-technical audiences."
   ],
   "id": "78760b2f7582baaf"
  },
  {
   "cell_type": "code",
   "id": "initial_id",
   "metadata": {
    "collapsed": true,
    "ExecuteTime": {
     "end_time": "2025-07-24T21:40:53.914652Z",
     "start_time": "2025-07-24T21:40:53.907594Z"
    }
   },
   "source": [
    "import numpy as np\n",
    "import pandas as pd\n",
    "import matplotlib.pyplot as plt\n",
    "import warnings\n",
    "warnings.simplefilter('ignore')"
   ],
   "outputs": [],
   "execution_count": 22
  },
  {
   "metadata": {
    "ExecuteTime": {
     "end_time": "2025-07-24T21:40:53.950489Z",
     "start_time": "2025-07-24T21:40:53.927856Z"
    }
   },
   "cell_type": "code",
   "source": [
    "grains = pd.read_csv(r\"C:\\Users\\Emigb\\Documents\\Data Science\\datasets\\Grains\\seeds.csv\")\n",
    "grains = grains.iloc[:-168]\n",
    "samples = grains.iloc[:,:-1].values\n",
    "varieties = grains.iloc[:,-1].values"
   ],
   "id": "7844a5aa9654be4f",
   "outputs": [],
   "execution_count": 23
  },
  {
   "metadata": {},
   "cell_type": "markdown",
   "source": [
    "Hierarchical Clustering of Grain Data\n",
    "----\n",
    "\n",
    "Use the linkage() function from SciPy to perform hierarchical clustering on the array samples.\n",
    "Visualize the clustering result with the dendrogram() function.\n",
    "The array samples contains grain measurements, and the list varieties holds the corresponding grain types."
   ],
   "id": "11d9098402cc9b5b"
  },
  {
   "metadata": {
    "ExecuteTime": {
     "end_time": "2025-07-24T21:41:11.082595Z",
     "start_time": "2025-07-24T21:41:10.813487Z"
    }
   },
   "cell_type": "code",
   "source": [
    "#1. Import:linkage and dendrogram from scipy.cluster.hierarchy\n",
    "from scipy.cluster.hierarchy import linkage, dendrogram\n",
    "\n",
    "#2. Perform hierarchical clustering on samples using the linkage() function with the method='complete' keyword argument. Assign the result to merging.\n",
    "mergings = linkage(samples, method='complete')\n",
    "dendrogram(mergings,\n",
    "           labels=varieties,\n",
    "           leaf_rotation=90,\n",
    "           leaf_font_size=6,\n",
    ")\n",
    "plt.show()"
   ],
   "id": "6681f340d48687ac",
   "outputs": [
    {
     "data": {
      "text/plain": [
       "<Figure size 640x480 with 1 Axes>"
      ],
      "image/png": "[encoded data removed]"
     },
     "metadata": {},
     "output_type": "display_data"
    }
   ],
   "execution_count": 25
  },
  {
   "metadata": {
    "ExecuteTime": {
     "end_time": "2025-07-24T21:40:54.205672Z",
     "start_time": "2025-07-24T21:40:54.202357Z"
    }
   },
   "cell_type": "code",
   "source": "",
   "id": "ef4307bbee31b5e2",
   "outputs": [],
   "execution_count": null
  }
 ],
 "metadata": {
  "kernelspec": {
   "display_name": "Python 3",
   "language": "python",
   "name": "python3"
  },
  "language_info": {
   "codemirror_mode": {
    "name": "ipython",
    "version": 2
   },
   "file_extension": ".py",
   "mimetype": "text/x-python",
   "name": "python",
   "nbconvert_exporter": "python",
   "pygments_lexer": "ipython2",
   "version": "2.7.6"
  }
 },
 "nbformat": 4,
 "nbformat_minor": 5
}
