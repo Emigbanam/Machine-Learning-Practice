{
 "cells": [
  {
   "metadata": {},
   "cell_type": "markdown",
   "source": [
    "Decorrelating Your Data and Dimension Reduction\n",
    "----"
   ],
   "id": "45be738385013a0d"
  },
  {
   "cell_type": "code",
   "id": "initial_id",
   "metadata": {
    "collapsed": true,
    "ExecuteTime": {
     "end_time": "2025-07-31T18:28:24.830796Z",
     "start_time": "2025-07-31T18:28:24.823993Z"
    }
   },
   "source": [
    "import numpy as np\n",
    "import pandas as pd\n",
    "import matplotlib.pyplot as plt\n",
    "import warnings\n",
    "warnings.filterwarnings('ignore')"
   ],
   "outputs": [],
   "execution_count": 5
  },
  {
   "metadata": {},
   "cell_type": "markdown",
   "source": [
    "Investigating Correlation Between Grain Width and Length\n",
    "----\n",
    "\n",
    "Use the grains array, which contains the width and length measurements of grain samples, to explore their relationship. Create a scatter plot with width on one axis and length on the other to visually inspect the correlation. Then, calculate the Pearson correlation coefficient to quantify the strength and direction of the relationship between the two features."
   ],
   "id": "61c1c780e5b29dc"
  },
  {
   "metadata": {
    "ExecuteTime": {
     "end_time": "2025-07-31T18:28:24.876934Z",
     "start_time": "2025-07-31T18:28:24.862454Z"
    }
   },
   "cell_type": "code",
   "source": [
    "grains_df = pd.read_csv(r\"C:\\Users\\Emigb\\Documents\\Data Science\\datasets\\Grains\\seeds-width-vs-length.csv\", header=None)\n",
    "grains = grains_df.values\n",
    "grains.shape"
   ],
   "id": "864251d88f308e18",
   "outputs": [
    {
     "data": {
      "text/plain": [
       "(210, 2)"
      ]
     },
     "execution_count": 6,
     "metadata": {},
     "output_type": "execute_result"
    }
   ],
   "execution_count": 6
  },
  {
   "metadata": {
    "ExecuteTime": {
     "end_time": "2025-07-31T18:30:02.487893Z",
     "start_time": "2025-07-31T18:29:51.613330Z"
    }
   },
   "cell_type": "code",
   "source": [
    "#1. Import pearsonr from scipy.stats.\n",
    "from scipy.stats import pearsonr\n",
    "\n",
    "#2. Assign column 0 of grains to width and column 1 of grains to length.\n",
    "width = grains[:,0]\n",
    "length = grains[:,1]"
   ],
   "id": "d5c063cb677f0468",
   "outputs": [],
   "execution_count": 7
  },
  {
   "metadata": {},
   "cell_type": "code",
   "outputs": [],
   "execution_count": null,
   "source": "",
   "id": "9605926cb1278798"
  }
 ],
 "metadata": {
  "kernelspec": {
   "display_name": "Python 3",
   "language": "python",
   "name": "python3"
  },
  "language_info": {
   "codemirror_mode": {
    "name": "ipython",
    "version": 2
   },
   "file_extension": ".py",
   "mimetype": "text/x-python",
   "name": "python",
   "nbconvert_exporter": "python",
   "pygments_lexer": "ipython2",
   "version": "2.7.6"
  }
 },
 "nbformat": 4,
 "nbformat_minor": 5
}
