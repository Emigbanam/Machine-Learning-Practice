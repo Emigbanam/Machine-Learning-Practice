{
 "cells": [
  {
   "metadata": {},
   "cell_type": "markdown",
   "source": [
    "Unsupervised Learning\n",
    "---\n",
    "Unsupervised learning is a class of machine learning techniques for discovering patterns in data. Unsupervised learning is having the machine learn from data that is not labelled, pattern discovery, unguided by prediction task."
   ],
   "id": "b32a7c0b5827d045"
  },
  {
   "cell_type": "code",
   "id": "initial_id",
   "metadata": {
    "collapsed": true,
    "jupyter": {
     "is_executing": true
    },
    "ExecuteTime": {
     "start_time": "2025-07-22T21:16:48.659202Z"
    }
   },
   "source": [
    "import numpy as np\n",
    "import pandas as pd\n",
    "import matplotlib.pyplot as plt\n",
    "import warnings\n",
    "warnings.filterwarnings('ignore')"
   ],
   "outputs": [],
   "execution_count": null
  },
  {
   "metadata": {},
   "cell_type": "markdown",
   "source": [
    "Clustering 2D points\n",
    "---\n",
    "From the scatter plot of the previous exercise, you saw that the points seem to separate into 3 clusters. You'll now create a KMeans model to find 3 clusters, and fit it to the data points from the previous exercise. After the model has been fit, you'll obtain the cluster labels for some new points using the .predict() method.\n",
    "\n",
    "You are given the array points from the previous exercise, and also an array new_points."
   ],
   "id": "d35e95aeac6f6297"
  },
  {
   "metadata": {
    "ExecuteTime": {
     "end_time": "2025-07-22T21:15:55.503051Z",
     "start_time": "2025-07-22T21:15:40.171515Z"
    }
   },
   "cell_type": "code",
   "source": [
    "#1. Import KMeans from sklearn.cluster.\n",
    "\n",
    "from sklearn.cluster import KMeans"
   ],
   "id": "8d8ed3d1c2c8911a",
   "outputs": [],
   "execution_count": 2
  },
  {
   "metadata": {},
   "cell_type": "code",
   "outputs": [],
   "execution_count": null,
   "source": "",
   "id": "cf6ae837c3b7cdc3"
  }
 ],
 "metadata": {
  "kernelspec": {
   "display_name": "Python 3",
   "language": "python",
   "name": "python3"
  },
  "language_info": {
   "codemirror_mode": {
    "name": "ipython",
    "version": 2
   },
   "file_extension": ".py",
   "mimetype": "text/x-python",
   "name": "python",
   "nbconvert_exporter": "python",
   "pygments_lexer": "ipython2",
   "version": "2.7.6"
  }
 },
 "nbformat": 4,
 "nbformat_minor": 5
}
