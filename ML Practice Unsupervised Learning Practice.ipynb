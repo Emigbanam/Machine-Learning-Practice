{
 "cells": [
  {
   "metadata": {},
   "cell_type": "markdown",
   "source": [
    "Unsupervised Learning\n",
    "---\n",
    "Unsupervised learning is a class of machine learning techniques for discovering patterns in data. Unsupervised learning is having the machine learn from data that is not labelled, pattern discovery, unguided by prediction task."
   ],
   "id": "b32a7c0b5827d045"
  },
  {
   "cell_type": "code",
   "id": "initial_id",
   "metadata": {
    "collapsed": true,
    "ExecuteTime": {
     "end_time": "2025-07-22T21:16:50.042841Z",
     "start_time": "2025-07-22T21:16:48.659202Z"
    }
   },
   "source": [
    "import numpy as np\n",
    "import pandas as pd\n",
    "import matplotlib.pyplot as plt\n",
    "import warnings\n",
    "warnings.filterwarnings('ignore')"
   ],
   "outputs": [],
   "execution_count": 1
  },
  {
   "metadata": {
    "ExecuteTime": {
     "end_time": "2025-07-22T21:33:42.000898Z",
     "start_time": "2025-07-22T21:33:41.925408Z"
    }
   },
   "cell_type": "code",
   "source": [
    "iris = pd.read_csv(r\"C:\\Users\\Emigb\\Documents\\Data Science\\datasets\\iris.data.csv\", names=[\"Petal Length\", \"Petal Width\", \"Sepal Length\", \"Sepal Width\", \"Species\"])\n",
    "\n",
    "iris_array =  iris.drop('Species', axis=1)\n",
    "iris_array.head()"
   ],
   "id": "a06e02abe03036b3",
   "outputs": [
    {
     "data": {
      "text/plain": [
       "   Petal Length  Petal Width  Sepal Length  Sepal Width\n",
       "0           5.1          3.5           1.4          0.2\n",
       "1           4.9          3.0           1.4          0.2\n",
       "2           4.7          3.2           1.3          0.2\n",
       "3           4.6          3.1           1.5          0.2\n",
       "4           5.0          3.6           1.4          0.2"
      ],
      "text/html": [
       "<div>\n",
       "<style scoped>\n",
       "    .dataframe tbody tr th:only-of-type {\n",
       "        vertical-align: middle;\n",
       "    }\n",
       "\n",
       "    .dataframe tbody tr th {\n",
       "        vertical-align: top;\n",
       "    }\n",
       "\n",
       "    .dataframe thead th {\n",
       "        text-align: right;\n",
       "    }\n",
       "</style>\n",
       "<table border=\"1\" class=\"dataframe\">\n",
       "  <thead>\n",
       "    <tr style=\"text-align: right;\">\n",
       "      <th></th>\n",
       "      <th>Petal Length</th>\n",
       "      <th>Petal Width</th>\n",
       "      <th>Sepal Length</th>\n",
       "      <th>Sepal Width</th>\n",
       "    </tr>\n",
       "  </thead>\n",
       "  <tbody>\n",
       "    <tr>\n",
       "      <th>0</th>\n",
       "      <td>5.1</td>\n",
       "      <td>3.5</td>\n",
       "      <td>1.4</td>\n",
       "      <td>0.2</td>\n",
       "    </tr>\n",
       "    <tr>\n",
       "      <th>1</th>\n",
       "      <td>4.9</td>\n",
       "      <td>3.0</td>\n",
       "      <td>1.4</td>\n",
       "      <td>0.2</td>\n",
       "    </tr>\n",
       "    <tr>\n",
       "      <th>2</th>\n",
       "      <td>4.7</td>\n",
       "      <td>3.2</td>\n",
       "      <td>1.3</td>\n",
       "      <td>0.2</td>\n",
       "    </tr>\n",
       "    <tr>\n",
       "      <th>3</th>\n",
       "      <td>4.6</td>\n",
       "      <td>3.1</td>\n",
       "      <td>1.5</td>\n",
       "      <td>0.2</td>\n",
       "    </tr>\n",
       "    <tr>\n",
       "      <th>4</th>\n",
       "      <td>5.0</td>\n",
       "      <td>3.6</td>\n",
       "      <td>1.4</td>\n",
       "      <td>0.2</td>\n",
       "    </tr>\n",
       "  </tbody>\n",
       "</table>\n",
       "</div>"
      ]
     },
     "execution_count": 10,
     "metadata": {},
     "output_type": "execute_result"
    }
   ],
   "execution_count": 10
  },
  {
   "metadata": {
    "ExecuteTime": {
     "end_time": "2025-07-22T21:33:51.829301Z",
     "start_time": "2025-07-22T21:33:51.809010Z"
    }
   },
   "cell_type": "code",
   "source": [
    "samples = iris_array.sample(n=50, random_state=33)\n",
    "samples.head()"
   ],
   "id": "f83460bf36e86e91",
   "outputs": [
    {
     "data": {
      "text/plain": [
       "     Petal Length  Petal Width  Sepal Length  Sepal Width\n",
       "96            5.7          2.9           4.2          1.3\n",
       "65            6.7          3.1           4.4          1.4\n",
       "29            4.7          3.2           1.6          0.2\n",
       "54            6.5          2.8           4.6          1.5\n",
       "134           6.1          2.6           5.6          1.4"
      ],
      "text/html": [
       "<div>\n",
       "<style scoped>\n",
       "    .dataframe tbody tr th:only-of-type {\n",
       "        vertical-align: middle;\n",
       "    }\n",
       "\n",
       "    .dataframe tbody tr th {\n",
       "        vertical-align: top;\n",
       "    }\n",
       "\n",
       "    .dataframe thead th {\n",
       "        text-align: right;\n",
       "    }\n",
       "</style>\n",
       "<table border=\"1\" class=\"dataframe\">\n",
       "  <thead>\n",
       "    <tr style=\"text-align: right;\">\n",
       "      <th></th>\n",
       "      <th>Petal Length</th>\n",
       "      <th>Petal Width</th>\n",
       "      <th>Sepal Length</th>\n",
       "      <th>Sepal Width</th>\n",
       "    </tr>\n",
       "  </thead>\n",
       "  <tbody>\n",
       "    <tr>\n",
       "      <th>96</th>\n",
       "      <td>5.7</td>\n",
       "      <td>2.9</td>\n",
       "      <td>4.2</td>\n",
       "      <td>1.3</td>\n",
       "    </tr>\n",
       "    <tr>\n",
       "      <th>65</th>\n",
       "      <td>6.7</td>\n",
       "      <td>3.1</td>\n",
       "      <td>4.4</td>\n",
       "      <td>1.4</td>\n",
       "    </tr>\n",
       "    <tr>\n",
       "      <th>29</th>\n",
       "      <td>4.7</td>\n",
       "      <td>3.2</td>\n",
       "      <td>1.6</td>\n",
       "      <td>0.2</td>\n",
       "    </tr>\n",
       "    <tr>\n",
       "      <th>54</th>\n",
       "      <td>6.5</td>\n",
       "      <td>2.8</td>\n",
       "      <td>4.6</td>\n",
       "      <td>1.5</td>\n",
       "    </tr>\n",
       "    <tr>\n",
       "      <th>134</th>\n",
       "      <td>6.1</td>\n",
       "      <td>2.6</td>\n",
       "      <td>5.6</td>\n",
       "      <td>1.4</td>\n",
       "    </tr>\n",
       "  </tbody>\n",
       "</table>\n",
       "</div>"
      ]
     },
     "execution_count": 11,
     "metadata": {},
     "output_type": "execute_result"
    }
   ],
   "execution_count": 11
  },
  {
   "metadata": {},
   "cell_type": "markdown",
   "source": [
    "Clustering 2D points\n",
    "---\n",
    "From the scatter plot of the previous exercise, you saw that the points seem to separate into 3 clusters. You'll now create a KMeans model to find 3 clusters, and fit it to the data points from the previous exercise. After the model has been fit, you'll obtain the cluster labels for some new points using the .predict() method.\n",
    "\n",
    "You are given the array points from the previous exercise, and also an array new_points."
   ],
   "id": "d35e95aeac6f6297"
  },
  {
   "metadata": {
    "ExecuteTime": {
     "end_time": "2025-07-22T21:36:30.657867Z",
     "start_time": "2025-07-22T21:36:30.631104Z"
    }
   },
   "cell_type": "code",
   "source": [
    "#1. Import KMeans from sklearn.cluster.\n",
    "from sklearn.cluster import KMeans\n",
    "\n",
    "#2. Using KMeans(), create a KMeans instance called model to find 3 clusters. 3. To specify the number of clusters, use the n_clusters keyword argument.\n",
    "model =  KMeans(n_clusters = 3)\n",
    "\n",
    "#3. Use the .fit() method of model to fit the model to the samples.\n",
    "model.fit(samples)\n",
    "\n",
    "#4. Use the .predict() method of model to predict the cluster labels of samples, assigning the result to labels.\n",
    "labels = model.predict(samples)\n",
    "\n",
    "# Print cluster labels of samples\n",
    "print(labels)\n"
   ],
   "id": "8d8ed3d1c2c8911a",
   "outputs": [
    {
     "name": "stdout",
     "output_type": "stream",
     "text": [
      "[1 1 0 1 1 2 0 0 2 2 2 0 2 1 2 1 1 0 1 2 0 0 2 0 1 1 1 1 2 1 1 1 1 2 2 2 1\n",
      " 1 1 0 1 1 1 0 0 0 0 2 0 0]\n"
     ]
    }
   ],
   "execution_count": 15
  },
  {
   "metadata": {},
   "cell_type": "markdown",
   "source": [
    "Visualizing The clustering\n",
    "----\n",
    "Let's now inspect the clustering you performed in the previous exercise!"
   ],
   "id": "93d20f2ebcec56a4"
  },
  {
   "metadata": {
    "ExecuteTime": {
     "end_time": "2025-07-22T21:44:10.368506Z",
     "start_time": "2025-07-22T21:44:10.185435Z"
    }
   },
   "cell_type": "code",
   "source": [
    "#2. Assign column 0 of samples to xs, and column 1 of samples to ys.\n",
    "xs = samples.iloc[:,0]\n",
    "ys = samples.iloc[:,1]\n",
    "\n",
    "\n",
    "#3. Make a scatter plot of xs and ys, specifying the c=labels keyword arguments to color the points by their cluster label.\n",
    "plt.scatter(xs,ys, c=labels);"
   ],
   "id": "cf6ae837c3b7cdc3",
   "outputs": [
    {
     "data": {
      "text/plain": [
       "<Figure size 640x480 with 1 Axes>"
      ],
      "image/png": "[encoded data removed]"
     },
     "metadata": {},
     "output_type": "display_data"
    }
   ],
   "execution_count": 19
  },
  {
   "metadata": {
    "ExecuteTime": {
     "end_time": "2025-07-22T21:47:43.890240Z",
     "start_time": "2025-07-22T21:47:43.717906Z"
    }
   },
   "cell_type": "code",
   "source": [
    "#4.Compute the coordinates of the centroids using the .cluster_centers_ attribute of model.\n",
    "centroids = model.cluster_centers_\n",
    "\n",
    "#5. Assign column 0 of centroids to centroids_x, and column 1 of centroids to centroids_y.\n",
    "centroids_x = centroids[:,0]\n",
    "centroids_y = centroids[:,1]\n",
    "\n",
    "#6. Make a scatter plot of centroids_x and centroids_y, using 'D' (a diamond) as a marker by specifying the marker parameter. Set the size of the markers to be 50 using s=50.\n",
    "\n",
    "plt.scatter(centroids_x, centroids_y, marker='D', s=50);"
   ],
   "id": "768f09eaf30a8c39",
   "outputs": [
    {
     "data": {
      "text/plain": [
       "<Figure size 640x480 with 1 Axes>"
      ],
      "image/png": "[encoded data removed]"
     },
     "metadata": {},
     "output_type": "display_data"
    }
   ],
   "execution_count": 22
  },
  {
   "metadata": {},
   "cell_type": "code",
   "outputs": [],
   "execution_count": null,
   "source": "",
   "id": "654d1366260109ee"
  }
 ],
 "metadata": {
  "kernelspec": {
   "display_name": "Python 3",
   "language": "python",
   "name": "python3"
  },
  "language_info": {
   "codemirror_mode": {
    "name": "ipython",
    "version": 2
   },
   "file_extension": ".py",
   "mimetype": "text/x-python",
   "name": "python",
   "nbconvert_exporter": "python",
   "pygments_lexer": "ipython2",
   "version": "2.7.6"
  }
 },
 "nbformat": 4,
 "nbformat_minor": 5
}
