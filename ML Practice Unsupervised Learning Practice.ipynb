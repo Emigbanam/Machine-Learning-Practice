{
 "cells": [
  {
   "metadata": {},
   "cell_type": "markdown",
   "source": [
    "Unsupervised Learning\n",
    "---\n",
    "Unsupervised learning is a class of machine learning techniques for discovering patterns in data. Unsupervised learning is having the machine learn from data that is not labelled, pattern discovery, unguided by prediction task."
   ],
   "id": "b32a7c0b5827d045"
  },
  {
   "metadata": {},
   "cell_type": "code",
   "outputs": [],
   "execution_count": null,
   "source": "",
   "id": "beeab84c1dcd340e"
  },
  {
   "cell_type": "code",
   "id": "initial_id",
   "metadata": {
    "collapsed": true,
    "ExecuteTime": {
     "end_time": "2025-07-24T20:57:28.574963Z",
     "start_time": "2025-07-24T20:57:28.221135Z"
    }
   },
   "source": [
    "import numpy as np\n",
    "import pandas as pd\n",
    "import matplotlib.pyplot as plt\n",
    "import warnings\n",
    "warnings.filterwarnings('ignore')"
   ],
   "outputs": [],
   "execution_count": 64
  },
  {
   "metadata": {
    "ExecuteTime": {
     "end_time": "2025-07-24T20:57:29.452169Z",
     "start_time": "2025-07-24T20:57:28.677446Z"
    }
   },
   "cell_type": "code",
   "source": [
    "iris = pd.read_csv(r\"C:\\Users\\Emigb\\Documents\\Data Science\\datasets\\iris.data.csv\", names=[\"Petal Length\", \"Petal Width\", \"Sepal Length\", \"Sepal Width\", \"Species\"])\n",
    "\n",
    "iris_array =  iris.drop('Species', axis=1)\n",
    "iris_array.head()"
   ],
   "id": "a06e02abe03036b3",
   "outputs": [
    {
     "data": {
      "text/plain": [
       "   Petal Length  Petal Width  Sepal Length  Sepal Width\n",
       "0           5.1          3.5           1.4          0.2\n",
       "1           4.9          3.0           1.4          0.2\n",
       "2           4.7          3.2           1.3          0.2\n",
       "3           4.6          3.1           1.5          0.2\n",
       "4           5.0          3.6           1.4          0.2"
      ],
      "text/html": [
       "<div>\n",
       "<style scoped>\n",
       "    .dataframe tbody tr th:only-of-type {\n",
       "        vertical-align: middle;\n",
       "    }\n",
       "\n",
       "    .dataframe tbody tr th {\n",
       "        vertical-align: top;\n",
       "    }\n",
       "\n",
       "    .dataframe thead th {\n",
       "        text-align: right;\n",
       "    }\n",
       "</style>\n",
       "<table border=\"1\" class=\"dataframe\">\n",
       "  <thead>\n",
       "    <tr style=\"text-align: right;\">\n",
       "      <th></th>\n",
       "      <th>Petal Length</th>\n",
       "      <th>Petal Width</th>\n",
       "      <th>Sepal Length</th>\n",
       "      <th>Sepal Width</th>\n",
       "    </tr>\n",
       "  </thead>\n",
       "  <tbody>\n",
       "    <tr>\n",
       "      <th>0</th>\n",
       "      <td>5.1</td>\n",
       "      <td>3.5</td>\n",
       "      <td>1.4</td>\n",
       "      <td>0.2</td>\n",
       "    </tr>\n",
       "    <tr>\n",
       "      <th>1</th>\n",
       "      <td>4.9</td>\n",
       "      <td>3.0</td>\n",
       "      <td>1.4</td>\n",
       "      <td>0.2</td>\n",
       "    </tr>\n",
       "    <tr>\n",
       "      <th>2</th>\n",
       "      <td>4.7</td>\n",
       "      <td>3.2</td>\n",
       "      <td>1.3</td>\n",
       "      <td>0.2</td>\n",
       "    </tr>\n",
       "    <tr>\n",
       "      <th>3</th>\n",
       "      <td>4.6</td>\n",
       "      <td>3.1</td>\n",
       "      <td>1.5</td>\n",
       "      <td>0.2</td>\n",
       "    </tr>\n",
       "    <tr>\n",
       "      <th>4</th>\n",
       "      <td>5.0</td>\n",
       "      <td>3.6</td>\n",
       "      <td>1.4</td>\n",
       "      <td>0.2</td>\n",
       "    </tr>\n",
       "  </tbody>\n",
       "</table>\n",
       "</div>"
      ]
     },
     "execution_count": 65,
     "metadata": {},
     "output_type": "execute_result"
    }
   ],
   "execution_count": 65
  },
  {
   "metadata": {
    "ExecuteTime": {
     "end_time": "2025-07-24T20:57:29.698144Z",
     "start_time": "2025-07-24T20:57:29.583384Z"
    }
   },
   "cell_type": "code",
   "source": [
    "samples = iris_array.sample(n=100, random_state=33)\n",
    "samples.head()"
   ],
   "id": "f83460bf36e86e91",
   "outputs": [
    {
     "data": {
      "text/plain": [
       "     Petal Length  Petal Width  Sepal Length  Sepal Width\n",
       "96            5.7          2.9           4.2          1.3\n",
       "65            6.7          3.1           4.4          1.4\n",
       "29            4.7          3.2           1.6          0.2\n",
       "54            6.5          2.8           4.6          1.5\n",
       "134           6.1          2.6           5.6          1.4"
      ],
      "text/html": [
       "<div>\n",
       "<style scoped>\n",
       "    .dataframe tbody tr th:only-of-type {\n",
       "        vertical-align: middle;\n",
       "    }\n",
       "\n",
       "    .dataframe tbody tr th {\n",
       "        vertical-align: top;\n",
       "    }\n",
       "\n",
       "    .dataframe thead th {\n",
       "        text-align: right;\n",
       "    }\n",
       "</style>\n",
       "<table border=\"1\" class=\"dataframe\">\n",
       "  <thead>\n",
       "    <tr style=\"text-align: right;\">\n",
       "      <th></th>\n",
       "      <th>Petal Length</th>\n",
       "      <th>Petal Width</th>\n",
       "      <th>Sepal Length</th>\n",
       "      <th>Sepal Width</th>\n",
       "    </tr>\n",
       "  </thead>\n",
       "  <tbody>\n",
       "    <tr>\n",
       "      <th>96</th>\n",
       "      <td>5.7</td>\n",
       "      <td>2.9</td>\n",
       "      <td>4.2</td>\n",
       "      <td>1.3</td>\n",
       "    </tr>\n",
       "    <tr>\n",
       "      <th>65</th>\n",
       "      <td>6.7</td>\n",
       "      <td>3.1</td>\n",
       "      <td>4.4</td>\n",
       "      <td>1.4</td>\n",
       "    </tr>\n",
       "    <tr>\n",
       "      <th>29</th>\n",
       "      <td>4.7</td>\n",
       "      <td>3.2</td>\n",
       "      <td>1.6</td>\n",
       "      <td>0.2</td>\n",
       "    </tr>\n",
       "    <tr>\n",
       "      <th>54</th>\n",
       "      <td>6.5</td>\n",
       "      <td>2.8</td>\n",
       "      <td>4.6</td>\n",
       "      <td>1.5</td>\n",
       "    </tr>\n",
       "    <tr>\n",
       "      <th>134</th>\n",
       "      <td>6.1</td>\n",
       "      <td>2.6</td>\n",
       "      <td>5.6</td>\n",
       "      <td>1.4</td>\n",
       "    </tr>\n",
       "  </tbody>\n",
       "</table>\n",
       "</div>"
      ]
     },
     "execution_count": 66,
     "metadata": {},
     "output_type": "execute_result"
    }
   ],
   "execution_count": 66
  },
  {
   "metadata": {},
   "cell_type": "markdown",
   "source": [
    "**Clustering 2D Points**\n",
    "----\n",
    "KMeans can be used to identify groups in 2D data. When the data visually shows three distinct groups, a KMeans model can be set to find three clusters. After fitting the model to the data, the `.predict()` method can assign cluster labels to new, unseen points."
   ],
   "id": "d35e95aeac6f6297"
  },
  {
   "metadata": {
    "ExecuteTime": {
     "end_time": "2025-07-24T20:57:30.419427Z",
     "start_time": "2025-07-24T20:57:29.906362Z"
    }
   },
   "cell_type": "code",
   "source": [
    "#1. Import KMeans from sklearn.cluster.\n",
    "from sklearn.cluster import KMeans\n",
    "\n",
    "#2. Using KMeans(), create a KMeans instance called model to find 3 clusters. 3. To specify the number of clusters, use the n_clusters keyword argument.\n",
    "model =  KMeans(n_clusters = 3)\n",
    "\n",
    "#3. Use the .fit() method of model to fit the model to the samples.\n",
    "model.fit(samples)\n",
    "\n",
    "#4. Use the .predict() method of model to predict the cluster labels of samples, assigning the result to labels.\n",
    "labels = model.predict(samples)\n",
    "\n",
    "# Print cluster labels of samples\n",
    "print(labels)\n"
   ],
   "id": "8d8ed3d1c2c8911a",
   "outputs": [
    {
     "name": "stdout",
     "output_type": "stream",
     "text": [
      "[2 2 1 2 0 0 1 1 0 0 0 1 0 2 0 2 2 1 2 0 1 1 0 1 2 2 2 2 0 2 2 2 2 0 0 0 2\n",
      " 2 2 1 2 2 2 1 1 2 1 0 1 1 2 0 1 2 2 0 2 2 1 1 2 1 1 0 2 2 0 0 0 2 1 1 2 2\n",
      " 1 2 2 2 0 1 0 1 2 1 0 2 1 0 2 1 1 0 1 1 1 0 0 1 2 1]\n"
     ]
    }
   ],
   "execution_count": 67
  },
  {
   "metadata": {},
   "cell_type": "markdown",
   "source": [
    "Visualizing The clustering\n",
    "----\n",
    "Let's now inspect the clustering you performed in the previous exercise!"
   ],
   "id": "93d20f2ebcec56a4"
  },
  {
   "metadata": {
    "ExecuteTime": {
     "end_time": "2025-07-24T20:57:31.497977Z",
     "start_time": "2025-07-24T20:57:30.510461Z"
    }
   },
   "cell_type": "code",
   "source": [
    "#2. Assign column 0 of samples to xs, and column 1 of samples to ys.\n",
    "xs = samples.iloc[:,0]\n",
    "ys = samples.iloc[:,1]\n",
    "\n",
    "\n",
    "#3. Make a scatter plot of xs and ys, specifying the c=labels keyword arguments to color the points by their cluster label.\n",
    "plt.scatter(xs,ys, c=labels);"
   ],
   "id": "cf6ae837c3b7cdc3",
   "outputs": [
    {
     "data": {
      "text/plain": [
       "<Figure size 640x480 with 1 Axes>"
      ],
      "image/png": "[encoded data removed]"
     },
     "metadata": {},
     "output_type": "display_data"
    }
   ],
   "execution_count": 68
  },
  {
   "metadata": {
    "ExecuteTime": {
     "end_time": "2025-07-24T20:57:31.934767Z",
     "start_time": "2025-07-24T20:57:31.534698Z"
    }
   },
   "cell_type": "code",
   "source": [
    "#4.Compute the coordinates of the centroids using the .cluster_centers_ attribute of model.\n",
    "centroids = model.cluster_centers_\n",
    "\n",
    "#5. Assign column 0 of centroids to centroids_x, and column 1 of centroids to centroids_y.\n",
    "centroids_x = centroids[:,0]\n",
    "centroids_y = centroids[:,1]\n",
    "\n",
    "#6. Make a scatter plot of centroids_x and centroids_y, using 'D' (a diamond) as a marker by specifying the marker parameter. Set the size of the markers to be 50 using s=50.\n",
    "\n",
    "plt.scatter(centroids_x, centroids_y, marker='D', s=50);"
   ],
   "id": "768f09eaf30a8c39",
   "outputs": [
    {
     "data": {
      "text/plain": [
       "<Figure size 640x480 with 1 Axes>"
      ],
      "image/png": "[encoded data removed]"
     },
     "metadata": {},
     "output_type": "display_data"
    }
   ],
   "execution_count": 69
  },
  {
   "metadata": {},
   "cell_type": "markdown",
   "source": [
    "**Choosing the Number of Clusters**\n",
    "----\n",
    "The inertia graph helps determine the best number of clusters. Inertia measures how close the data points are to their cluster centers. A good number of clusters is found at the \"elbow point,\" where adding more clusters no longer leads to significant improvements."
   ],
   "id": "4ee885ee28599e57"
  },
  {
   "metadata": {
    "ExecuteTime": {
     "end_time": "2025-07-24T20:57:32.074403Z",
     "start_time": "2025-07-24T20:57:31.963751Z"
    }
   },
   "cell_type": "code",
   "source": [
    "grains = pd.read_csv(r\"C:\\Users\\Emigb\\Documents\\Data Science\\datasets\\Grains\\seeds.csv\")\n",
    "grains.head()"
   ],
   "id": "590cf923b8471dcb",
   "outputs": [
    {
     "data": {
      "text/plain": [
       "       1      2       3      4      5      6      7 Varieties\n",
       "0  15.26  14.84  0.8710  5.763  3.312  2.221  5.220      Rosa\n",
       "1  14.88  14.57  0.8811  5.554  3.333  1.018  4.956      Rosa\n",
       "2  14.29  14.09  0.9050  5.291  3.337  2.699  4.825      Rosa\n",
       "3  13.84  13.94  0.8955  5.324  3.379  2.259  4.805      Rosa\n",
       "4  16.14  14.99  0.9034  5.658  3.562  1.355  5.175      Rosa"
      ],
      "text/html": [
       "<div>\n",
       "<style scoped>\n",
       "    .dataframe tbody tr th:only-of-type {\n",
       "        vertical-align: middle;\n",
       "    }\n",
       "\n",
       "    .dataframe tbody tr th {\n",
       "        vertical-align: top;\n",
       "    }\n",
       "\n",
       "    .dataframe thead th {\n",
       "        text-align: right;\n",
       "    }\n",
       "</style>\n",
       "<table border=\"1\" class=\"dataframe\">\n",
       "  <thead>\n",
       "    <tr style=\"text-align: right;\">\n",
       "      <th></th>\n",
       "      <th>1</th>\n",
       "      <th>2</th>\n",
       "      <th>3</th>\n",
       "      <th>4</th>\n",
       "      <th>5</th>\n",
       "      <th>6</th>\n",
       "      <th>7</th>\n",
       "      <th>Varieties</th>\n",
       "    </tr>\n",
       "  </thead>\n",
       "  <tbody>\n",
       "    <tr>\n",
       "      <th>0</th>\n",
       "      <td>15.26</td>\n",
       "      <td>14.84</td>\n",
       "      <td>0.8710</td>\n",
       "      <td>5.763</td>\n",
       "      <td>3.312</td>\n",
       "      <td>2.221</td>\n",
       "      <td>5.220</td>\n",
       "      <td>Rosa</td>\n",
       "    </tr>\n",
       "    <tr>\n",
       "      <th>1</th>\n",
       "      <td>14.88</td>\n",
       "      <td>14.57</td>\n",
       "      <td>0.8811</td>\n",
       "      <td>5.554</td>\n",
       "      <td>3.333</td>\n",
       "      <td>1.018</td>\n",
       "      <td>4.956</td>\n",
       "      <td>Rosa</td>\n",
       "    </tr>\n",
       "    <tr>\n",
       "      <th>2</th>\n",
       "      <td>14.29</td>\n",
       "      <td>14.09</td>\n",
       "      <td>0.9050</td>\n",
       "      <td>5.291</td>\n",
       "      <td>3.337</td>\n",
       "      <td>2.699</td>\n",
       "      <td>4.825</td>\n",
       "      <td>Rosa</td>\n",
       "    </tr>\n",
       "    <tr>\n",
       "      <th>3</th>\n",
       "      <td>13.84</td>\n",
       "      <td>13.94</td>\n",
       "      <td>0.8955</td>\n",
       "      <td>5.324</td>\n",
       "      <td>3.379</td>\n",
       "      <td>2.259</td>\n",
       "      <td>4.805</td>\n",
       "      <td>Rosa</td>\n",
       "    </tr>\n",
       "    <tr>\n",
       "      <th>4</th>\n",
       "      <td>16.14</td>\n",
       "      <td>14.99</td>\n",
       "      <td>0.9034</td>\n",
       "      <td>5.658</td>\n",
       "      <td>3.562</td>\n",
       "      <td>1.355</td>\n",
       "      <td>5.175</td>\n",
       "      <td>Rosa</td>\n",
       "    </tr>\n",
       "  </tbody>\n",
       "</table>\n",
       "</div>"
      ]
     },
     "execution_count": 70,
     "metadata": {},
     "output_type": "execute_result"
    }
   ],
   "execution_count": 70
  },
  {
   "metadata": {
    "ExecuteTime": {
     "end_time": "2025-07-24T20:57:32.152692Z",
     "start_time": "2025-07-24T20:57:32.098400Z"
    }
   },
   "cell_type": "code",
   "source": [
    "#Converting The PD DataFrame to a NumPy array\n",
    "sample_g = grains.iloc[:, :-1].values   # all columns except last\n",
    "varieties = grains.iloc[:, -1].values  # last column with variety names"
   ],
   "id": "deff6e2ed5e4361f",
   "outputs": [],
   "execution_count": 71
  },
  {
   "metadata": {
    "ExecuteTime": {
     "end_time": "2025-07-24T20:57:32.515791Z",
     "start_time": "2025-07-24T20:57:32.174208Z"
    }
   },
   "cell_type": "code",
   "source": [
    "ks = range(1,6)\n",
    "inertias = []\n",
    "\n",
    "for k in ks:\n",
    "    #1. Create a KMeans instance called model with k clusters.\n",
    "    model = KMeans(n_clusters = k)\n",
    "\n",
    "    #2. Fit the model to the grain data samples.\n",
    "    model.fit(sample_g)\n",
    "\n",
    "    #3. Append the value of the inertia_ attribute of model to the list inertias.\n",
    "    inertias.append(model.inertia_)\n",
    "\n",
    "#4. The code to plot ks vs inertias has been written for you, so hit submit to see the plot!\n",
    "plt.plot(ks, inertias, '-o')\n",
    "plt.xlabel('number of clusters, k')\n",
    "plt.ylabel('inertia')\n",
    "plt.xticks(ks);"
   ],
   "id": "654d1366260109ee",
   "outputs": [
    {
     "data": {
      "text/plain": [
       "<Figure size 640x480 with 1 Axes>"
      ],
      "image/png": "[encoded data removed]"
     },
     "metadata": {},
     "output_type": "display_data"
    }
   ],
   "execution_count": 72
  },
  {
   "metadata": {},
   "cell_type": "markdown",
   "source": [
    "**Evaluating Grain Clustering**\n",
    "----\n",
    "Grain samples can be grouped into three clusters using KMeans. The predicted clusters can then be compared with the known grain varieties through cross-tabulation. This comparison reveals how closely the clustering aligns with the actual categories."
   ],
   "id": "a53a36dc8adbc231"
  },
  {
   "metadata": {
    "ExecuteTime": {
     "end_time": "2025-07-24T20:57:32.867553Z",
     "start_time": "2025-07-24T20:57:32.604820Z"
    }
   },
   "cell_type": "code",
   "source": [
    "#1. Create a KMeans model called model with 3 clusters.\n",
    "kmeans = KMeans(n_clusters=3)\n",
    "\n",
    "#2. Use the .fit_predict() method of model to fit it to samples and derive the cluster labels. Using .fit_predict() is the same as using .fit() followed by .predict().\n",
    "labels_g = kmeans.fit_predict(sample_g)\n",
    "\n",
    "#3. Create a DataFrame df with two columns named 'labels' and 'varieties', using labels and varieties, respectively, for the column values.\n",
    "df = pd.DataFrame({'labels': labels_g, 'varieties': varieties})\n",
    "\n",
    "#4. Use the pd.crosstab() function on df['labels'] and df['varieties'] to count the number of times each grain variety coincides with each cluster label. Assign the result to ct.\n",
    "ct = pd.crosstab(df['labels'], df['varieties'])\n",
    "\n",
    "print(ct)\n"
   ],
   "id": "7b63615fac4c6bdd",
   "outputs": [
    {
     "name": "stdout",
     "output_type": "stream",
     "text": [
      "varieties  Canadian  Kama  Rosa\n",
      "labels                         \n",
      "0                 0    60     1\n",
      "1                70     0    12\n",
      "2                 0    10    57\n"
     ]
    }
   ],
   "execution_count": 73
  },
  {
   "metadata": {},
   "cell_type": "markdown",
   "source": [
    "**Scaling Fish Data**\n",
    "----\n",
    "Fish measurements such as weight, length, and height-to-length ratio have different units and scales. Standardizing the data ensures that no single feature dominates the clustering process. A pipeline can be created to first scale the data before applying KMeans."
   ],
   "id": "fe6d30cd080ccf0b"
  },
  {
   "metadata": {
    "ExecuteTime": {
     "end_time": "2025-07-24T20:57:33.021089Z",
     "start_time": "2025-07-24T20:57:32.932575Z"
    }
   },
   "cell_type": "code",
   "source": [
    "fish = pd.read_csv(r\"C:\\Users\\Emigb\\Documents\\Data Science\\datasets\\fish.csv\", header=None)\n",
    "fish.head()"
   ],
   "id": "3c45656489e48255",
   "outputs": [
    {
     "data": {
      "text/plain": [
       "       0      1     2     3     4     5     6\n",
       "0  Bream  242.0  23.2  25.4  30.0  38.4  13.4\n",
       "1  Bream  290.0  24.0  26.3  31.2  40.0  13.8\n",
       "2  Bream  340.0  23.9  26.5  31.1  39.8  15.1\n",
       "3  Bream  363.0  26.3  29.0  33.5  38.0  13.3\n",
       "4  Bream  430.0  26.5  29.0  34.0  36.6  15.1"
      ],
      "text/html": [
       "<div>\n",
       "<style scoped>\n",
       "    .dataframe tbody tr th:only-of-type {\n",
       "        vertical-align: middle;\n",
       "    }\n",
       "\n",
       "    .dataframe tbody tr th {\n",
       "        vertical-align: top;\n",
       "    }\n",
       "\n",
       "    .dataframe thead th {\n",
       "        text-align: right;\n",
       "    }\n",
       "</style>\n",
       "<table border=\"1\" class=\"dataframe\">\n",
       "  <thead>\n",
       "    <tr style=\"text-align: right;\">\n",
       "      <th></th>\n",
       "      <th>0</th>\n",
       "      <th>1</th>\n",
       "      <th>2</th>\n",
       "      <th>3</th>\n",
       "      <th>4</th>\n",
       "      <th>5</th>\n",
       "      <th>6</th>\n",
       "    </tr>\n",
       "  </thead>\n",
       "  <tbody>\n",
       "    <tr>\n",
       "      <th>0</th>\n",
       "      <td>Bream</td>\n",
       "      <td>242.0</td>\n",
       "      <td>23.2</td>\n",
       "      <td>25.4</td>\n",
       "      <td>30.0</td>\n",
       "      <td>38.4</td>\n",
       "      <td>13.4</td>\n",
       "    </tr>\n",
       "    <tr>\n",
       "      <th>1</th>\n",
       "      <td>Bream</td>\n",
       "      <td>290.0</td>\n",
       "      <td>24.0</td>\n",
       "      <td>26.3</td>\n",
       "      <td>31.2</td>\n",
       "      <td>40.0</td>\n",
       "      <td>13.8</td>\n",
       "    </tr>\n",
       "    <tr>\n",
       "      <th>2</th>\n",
       "      <td>Bream</td>\n",
       "      <td>340.0</td>\n",
       "      <td>23.9</td>\n",
       "      <td>26.5</td>\n",
       "      <td>31.1</td>\n",
       "      <td>39.8</td>\n",
       "      <td>15.1</td>\n",
       "    </tr>\n",
       "    <tr>\n",
       "      <th>3</th>\n",
       "      <td>Bream</td>\n",
       "      <td>363.0</td>\n",
       "      <td>26.3</td>\n",
       "      <td>29.0</td>\n",
       "      <td>33.5</td>\n",
       "      <td>38.0</td>\n",
       "      <td>13.3</td>\n",
       "    </tr>\n",
       "    <tr>\n",
       "      <th>4</th>\n",
       "      <td>Bream</td>\n",
       "      <td>430.0</td>\n",
       "      <td>26.5</td>\n",
       "      <td>29.0</td>\n",
       "      <td>34.0</td>\n",
       "      <td>36.6</td>\n",
       "      <td>15.1</td>\n",
       "    </tr>\n",
       "  </tbody>\n",
       "</table>\n",
       "</div>"
      ]
     },
     "execution_count": 74,
     "metadata": {},
     "output_type": "execute_result"
    }
   ],
   "execution_count": 74
  },
  {
   "metadata": {
    "ExecuteTime": {
     "end_time": "2025-07-24T20:57:33.101Z",
     "start_time": "2025-07-24T20:57:33.087181Z"
    }
   },
   "cell_type": "code",
   "source": [
    "sample_f = fish.iloc[:, 1:].values\n",
    "species = fish.iloc[:,0].values"
   ],
   "id": "2c26b520c3ae17f6",
   "outputs": [],
   "execution_count": 75
  },
  {
   "metadata": {
    "ExecuteTime": {
     "end_time": "2025-07-24T20:57:33.130907Z",
     "start_time": "2025-07-24T20:57:33.118682Z"
    }
   },
   "cell_type": "code",
   "source": [
    "#1. Import relevant libraries\n",
    "from sklearn.pipeline import make_pipeline\n",
    "from sklearn.preprocessing import StandardScaler"
   ],
   "id": "38893b48b2e583a0",
   "outputs": [],
   "execution_count": 76
  },
  {
   "metadata": {
    "ExecuteTime": {
     "end_time": "2025-07-24T20:57:33.164124Z",
     "start_time": "2025-07-24T20:57:33.144964Z"
    }
   },
   "cell_type": "code",
   "source": [
    "#2. Create an instance of StandardScaler called scaler.\n",
    "scaler = StandardScaler()\n",
    "\n",
    "#3. Create an instance of KMeans with 4 clusters called kmeans.\n",
    "kmeansf = KMeans(n_clusters = 4)\n",
    "\n",
    "#4. Create a pipeline called pipeline that chains scaler and kmeans. To do this, you just need to pass them in as arguments to make_pipeline().\n",
    "pipeline = make_pipeline(scaler, kmeansf)"
   ],
   "id": "9bd8e39787c7133e",
   "outputs": [],
   "execution_count": 77
  },
  {
   "metadata": {},
   "cell_type": "markdown",
   "source": [
    "**Clustering Fish Data**\n",
    "----\n",
    "After building the standardization and clustering pipeline, it can be applied to the fish dataset. The resulting cluster labels are then compared with the known species using cross-tabulation to evaluate the clustering accuracy."
   ],
   "id": "108eec27d6291ac2"
  },
  {
   "metadata": {
    "ExecuteTime": {
     "end_time": "2025-07-24T20:57:33.250995Z",
     "start_time": "2025-07-24T20:57:33.192220Z"
    }
   },
   "cell_type": "code",
   "source": [
    "#1. Fit the pipeline to the fish measurements samples.\n",
    "label_f = pipeline.fit(sample_f)\n",
    "\n",
    "#2. Obtain the cluster labels for samples by using the .predict() method of pipeline\n",
    "pipeline.predict(sample_f)"
   ],
   "id": "3ff237f2f48c58ff",
   "outputs": [
    {
     "data": {
      "text/plain": [
       "array([1, 1, 1, 1, 1, 1, 1, 1, 1, 1, 1, 1, 1, 1, 1, 1, 1, 1, 1, 1, 1, 1,\n",
       "       1, 1, 1, 1, 1, 1, 1, 1, 1, 1, 1, 1, 2, 2, 2, 2, 1, 1, 1, 1, 1, 1,\n",
       "       1, 1, 1, 1, 1, 1, 1, 1, 1, 1, 2, 2, 2, 2, 2, 2, 2, 2, 2, 2, 2, 2,\n",
       "       2, 2, 0, 0, 0, 0, 0, 0, 0, 0, 0, 0, 0, 0, 3, 3, 3, 3, 3],\n",
       "      dtype=int32)"
      ]
     },
     "execution_count": 78,
     "metadata": {},
     "output_type": "execute_result"
    }
   ],
   "execution_count": 78
  },
  {
   "metadata": {
    "ExecuteTime": {
     "end_time": "2025-07-24T20:57:33.387426Z",
     "start_time": "2025-07-24T20:57:33.324953Z"
    }
   },
   "cell_type": "code",
   "source": [
    "#3. Using pd.DataFrame(), create a DataFrame df with two columns named 'labels' and 'species', using labels and species, respectively, for the column values.\n",
    "\n",
    "df_fish = pd.DataFrame({'labels':label_f, 'species':species})\n",
    "\n",
    "#4. Using pd.crosstab(), create a cross-tabulation ct of df['labels'] and df['species'].\n",
    "ct_f = pd.crosstab(df_fish['labels'], df_fish['species'])\n",
    "ct_f"
   ],
   "id": "ce33974c72966591",
   "outputs": [
    {
     "data": {
      "text/plain": [
       "species                                   Bream  Pike  Roach  Smelt\n",
       "labels                                                             \n",
       "(StandardScaler(), KMeans(n_clusters=4))     34    17     20     14"
      ],
      "text/html": [
       "<div>\n",
       "<style scoped>\n",
       "    .dataframe tbody tr th:only-of-type {\n",
       "        vertical-align: middle;\n",
       "    }\n",
       "\n",
       "    .dataframe tbody tr th {\n",
       "        vertical-align: top;\n",
       "    }\n",
       "\n",
       "    .dataframe thead th {\n",
       "        text-align: right;\n",
       "    }\n",
       "</style>\n",
       "<table border=\"1\" class=\"dataframe\">\n",
       "  <thead>\n",
       "    <tr style=\"text-align: right;\">\n",
       "      <th>species</th>\n",
       "      <th>Bream</th>\n",
       "      <th>Pike</th>\n",
       "      <th>Roach</th>\n",
       "      <th>Smelt</th>\n",
       "    </tr>\n",
       "    <tr>\n",
       "      <th>labels</th>\n",
       "      <th></th>\n",
       "      <th></th>\n",
       "      <th></th>\n",
       "      <th></th>\n",
       "    </tr>\n",
       "  </thead>\n",
       "  <tbody>\n",
       "    <tr>\n",
       "      <th>(StandardScaler(), KMeans(n_clusters=4))</th>\n",
       "      <td>34</td>\n",
       "      <td>17</td>\n",
       "      <td>20</td>\n",
       "      <td>14</td>\n",
       "    </tr>\n",
       "  </tbody>\n",
       "</table>\n",
       "</div>"
      ]
     },
     "execution_count": 79,
     "metadata": {},
     "output_type": "execute_result"
    }
   ],
   "execution_count": 79
  },
  {
   "metadata": {},
   "cell_type": "markdown",
   "source": [
    "**Clustering Stocks**\n",
    "----\n",
    "Stock price movements vary in scale depending on the company. To handle this, a `Normalizer` is used to scale each company’s price movement relative to its own range. This transformation is combined with KMeans in a pipeline to cluster companies based on daily price changes."
   ],
   "id": "68402b06723b1362"
  },
  {
   "metadata": {
    "ExecuteTime": {
     "end_time": "2025-07-24T20:57:34.184575Z",
     "start_time": "2025-07-24T20:57:33.946407Z"
    }
   },
   "cell_type": "code",
   "source": [
    "stock = pd.read_csv(r\"C:\\Users\\Emigb\\Documents\\Data Science\\datasets\\company-stock-movements-2010-2015-incl.csv\")\n",
    "stock.head()"
   ],
   "id": "363411cb80541ee3",
   "outputs": [
    {
     "data": {
      "text/plain": [
       "         Unnamed: 0  2010-01-04  2010-01-05  2010-01-06  2010-01-07  \\\n",
       "0             Apple    0.580000   -0.220005   -3.409998   -1.170000   \n",
       "1               AIG   -0.640002   -0.650000   -0.210001   -0.420000   \n",
       "2            Amazon   -2.350006    1.260009   -2.350006   -2.009995   \n",
       "3  American express    0.109997    0.000000    0.260002    0.720002   \n",
       "4            Boeing    0.459999    1.770000    1.549999    2.690003   \n",
       "\n",
       "   2010-01-08  2010-01-11  2010-01-12  2010-01-13  2010-01-14  ...  \\\n",
       "0    1.680011   -2.689994   -1.469994    2.779997   -0.680003  ...   \n",
       "1    0.710001   -0.200001   -1.130001    0.069999   -0.119999  ...   \n",
       "2    2.960006   -2.309997   -1.640007    1.209999   -1.790001  ...   \n",
       "3    0.190003   -0.270001    0.750000    0.300004    0.639999  ...   \n",
       "4    0.059997   -1.080002    0.360000    0.549999    0.530002  ...   \n",
       "\n",
       "   2013-10-16  2013-10-17  2013-10-18  2013-10-21  2013-10-22  2013-10-23  \\\n",
       "0    0.320008    4.519997    2.899987    9.590019   -6.540016    5.959976   \n",
       "1    0.919998    0.709999    0.119999   -0.480000    0.010002   -0.279998   \n",
       "2    2.109985    3.699982    9.570008   -3.450013    4.820008   -4.079986   \n",
       "3    0.680001    2.290001    0.409996   -0.069999    0.100006    0.069999   \n",
       "4    1.559997    2.480003    0.019997   -1.220001    0.480003    3.020004   \n",
       "\n",
       "   2013-10-24  2013-10-25  2013-10-28  2013-10-29  \n",
       "0    6.910011   -5.359962    0.840019  -19.589981  \n",
       "1   -0.190003   -0.040001   -0.400002    0.660000  \n",
       "2    2.579986    4.790009   -1.760009    3.740021  \n",
       "3    0.130005    1.849999    0.040001    0.540001  \n",
       "4   -0.029999    1.940002    1.130005    0.309998  \n",
       "\n",
       "[5 rows x 964 columns]"
      ],
      "text/html": [
       "<div>\n",
       "<style scoped>\n",
       "    .dataframe tbody tr th:only-of-type {\n",
       "        vertical-align: middle;\n",
       "    }\n",
       "\n",
       "    .dataframe tbody tr th {\n",
       "        vertical-align: top;\n",
       "    }\n",
       "\n",
       "    .dataframe thead th {\n",
       "        text-align: right;\n",
       "    }\n",
       "</style>\n",
       "<table border=\"1\" class=\"dataframe\">\n",
       "  <thead>\n",
       "    <tr style=\"text-align: right;\">\n",
       "      <th></th>\n",
       "      <th>Unnamed: 0</th>\n",
       "      <th>2010-01-04</th>\n",
       "      <th>2010-01-05</th>\n",
       "      <th>2010-01-06</th>\n",
       "      <th>2010-01-07</th>\n",
       "      <th>2010-01-08</th>\n",
       "      <th>2010-01-11</th>\n",
       "      <th>2010-01-12</th>\n",
       "      <th>2010-01-13</th>\n",
       "      <th>2010-01-14</th>\n",
       "      <th>...</th>\n",
       "      <th>2013-10-16</th>\n",
       "      <th>2013-10-17</th>\n",
       "      <th>2013-10-18</th>\n",
       "      <th>2013-10-21</th>\n",
       "      <th>2013-10-22</th>\n",
       "      <th>2013-10-23</th>\n",
       "      <th>2013-10-24</th>\n",
       "      <th>2013-10-25</th>\n",
       "      <th>2013-10-28</th>\n",
       "      <th>2013-10-29</th>\n",
       "    </tr>\n",
       "  </thead>\n",
       "  <tbody>\n",
       "    <tr>\n",
       "      <th>0</th>\n",
       "      <td>Apple</td>\n",
       "      <td>0.580000</td>\n",
       "      <td>-0.220005</td>\n",
       "      <td>-3.409998</td>\n",
       "      <td>-1.170000</td>\n",
       "      <td>1.680011</td>\n",
       "      <td>-2.689994</td>\n",
       "      <td>-1.469994</td>\n",
       "      <td>2.779997</td>\n",
       "      <td>-0.680003</td>\n",
       "      <td>...</td>\n",
       "      <td>0.320008</td>\n",
       "      <td>4.519997</td>\n",
       "      <td>2.899987</td>\n",
       "      <td>9.590019</td>\n",
       "      <td>-6.540016</td>\n",
       "      <td>5.959976</td>\n",
       "      <td>6.910011</td>\n",
       "      <td>-5.359962</td>\n",
       "      <td>0.840019</td>\n",
       "      <td>-19.589981</td>\n",
       "    </tr>\n",
       "    <tr>\n",
       "      <th>1</th>\n",
       "      <td>AIG</td>\n",
       "      <td>-0.640002</td>\n",
       "      <td>-0.650000</td>\n",
       "      <td>-0.210001</td>\n",
       "      <td>-0.420000</td>\n",
       "      <td>0.710001</td>\n",
       "      <td>-0.200001</td>\n",
       "      <td>-1.130001</td>\n",
       "      <td>0.069999</td>\n",
       "      <td>-0.119999</td>\n",
       "      <td>...</td>\n",
       "      <td>0.919998</td>\n",
       "      <td>0.709999</td>\n",
       "      <td>0.119999</td>\n",
       "      <td>-0.480000</td>\n",
       "      <td>0.010002</td>\n",
       "      <td>-0.279998</td>\n",
       "      <td>-0.190003</td>\n",
       "      <td>-0.040001</td>\n",
       "      <td>-0.400002</td>\n",
       "      <td>0.660000</td>\n",
       "    </tr>\n",
       "    <tr>\n",
       "      <th>2</th>\n",
       "      <td>Amazon</td>\n",
       "      <td>-2.350006</td>\n",
       "      <td>1.260009</td>\n",
       "      <td>-2.350006</td>\n",
       "      <td>-2.009995</td>\n",
       "      <td>2.960006</td>\n",
       "      <td>-2.309997</td>\n",
       "      <td>-1.640007</td>\n",
       "      <td>1.209999</td>\n",
       "      <td>-1.790001</td>\n",
       "      <td>...</td>\n",
       "      <td>2.109985</td>\n",
       "      <td>3.699982</td>\n",
       "      <td>9.570008</td>\n",
       "      <td>-3.450013</td>\n",
       "      <td>4.820008</td>\n",
       "      <td>-4.079986</td>\n",
       "      <td>2.579986</td>\n",
       "      <td>4.790009</td>\n",
       "      <td>-1.760009</td>\n",
       "      <td>3.740021</td>\n",
       "    </tr>\n",
       "    <tr>\n",
       "      <th>3</th>\n",
       "      <td>American express</td>\n",
       "      <td>0.109997</td>\n",
       "      <td>0.000000</td>\n",
       "      <td>0.260002</td>\n",
       "      <td>0.720002</td>\n",
       "      <td>0.190003</td>\n",
       "      <td>-0.270001</td>\n",
       "      <td>0.750000</td>\n",
       "      <td>0.300004</td>\n",
       "      <td>0.639999</td>\n",
       "      <td>...</td>\n",
       "      <td>0.680001</td>\n",
       "      <td>2.290001</td>\n",
       "      <td>0.409996</td>\n",
       "      <td>-0.069999</td>\n",
       "      <td>0.100006</td>\n",
       "      <td>0.069999</td>\n",
       "      <td>0.130005</td>\n",
       "      <td>1.849999</td>\n",
       "      <td>0.040001</td>\n",
       "      <td>0.540001</td>\n",
       "    </tr>\n",
       "    <tr>\n",
       "      <th>4</th>\n",
       "      <td>Boeing</td>\n",
       "      <td>0.459999</td>\n",
       "      <td>1.770000</td>\n",
       "      <td>1.549999</td>\n",
       "      <td>2.690003</td>\n",
       "      <td>0.059997</td>\n",
       "      <td>-1.080002</td>\n",
       "      <td>0.360000</td>\n",
       "      <td>0.549999</td>\n",
       "      <td>0.530002</td>\n",
       "      <td>...</td>\n",
       "      <td>1.559997</td>\n",
       "      <td>2.480003</td>\n",
       "      <td>0.019997</td>\n",
       "      <td>-1.220001</td>\n",
       "      <td>0.480003</td>\n",
       "      <td>3.020004</td>\n",
       "      <td>-0.029999</td>\n",
       "      <td>1.940002</td>\n",
       "      <td>1.130005</td>\n",
       "      <td>0.309998</td>\n",
       "    </tr>\n",
       "  </tbody>\n",
       "</table>\n",
       "<p>5 rows × 964 columns</p>\n",
       "</div>"
      ]
     },
     "execution_count": 80,
     "metadata": {},
     "output_type": "execute_result"
    }
   ],
   "execution_count": 80
  },
  {
   "metadata": {
    "ExecuteTime": {
     "end_time": "2025-07-24T20:57:34.271278Z",
     "start_time": "2025-07-24T20:57:34.257968Z"
    }
   },
   "cell_type": "code",
   "source": [
    "movements = stock.iloc[:,1:].values\n",
    "company = stock.iloc[:,0].values"
   ],
   "id": "ee03b36527fcc19b",
   "outputs": [],
   "execution_count": 81
  },
  {
   "metadata": {
    "ExecuteTime": {
     "end_time": "2025-07-24T20:57:34.383568Z",
     "start_time": "2025-07-24T20:57:34.317735Z"
    }
   },
   "cell_type": "code",
   "source": [
    "#1. Import Normalizer from sklearn.preprocessing.\n",
    "from sklearn.preprocessing import Normalizer\n",
    "\n",
    "#2. Create an instance of Normalizer called normalizer.\n",
    "normalizer = Normalizer()\n",
    "\n",
    "#3. Create an instance of KMeans called kmeans_m with 10 clusters.\n",
    "kmeans_m = KMeans(n_clusters = 10)\n",
    "\n",
    "#4. Using make_pipeline(), create a pipeline called pipeline that chains normalizer and kmeans.\n",
    "pipeline_m = make_pipeline(normalizer, kmeans_m)\n",
    "\n",
    "#5. Fit the pipeline to the movements array.\n",
    "pipeline_m.fit(movements)\n",
    "\n",
    "\n",
    "print(label_m[:10])  # Inspect the first 10 values\n",
    "print(type(label_m))\n"
   ],
   "id": "a8a2df319a25613",
   "outputs": [
    {
     "name": "stdout",
     "output_type": "stream",
     "text": [
      "[9 1 8 1 2 1 5 4 2 3]\n",
      "<class 'numpy.ndarray'>\n"
     ]
    }
   ],
   "execution_count": 82
  },
  {
   "metadata": {},
   "cell_type": "markdown",
   "source": [
    "**Stocks Moving Together**\n",
    "----\n",
    "By inspecting the cluster labels from the stock clustering, it becomes possible to identify which companies have stock prices that move in similar patterns. This information can be compared to the list of company names to find groups with similar behaviors"
   ],
   "id": "b7a1b3bd7d1556a1"
  },
  {
   "metadata": {
    "ExecuteTime": {
     "end_time": "2025-07-24T20:57:35.145458Z",
     "start_time": "2025-07-24T20:57:35.107996Z"
    }
   },
   "cell_type": "code",
   "source": [
    "#2. Use the .predict() method of the pipeline to predict the labels for movements.\n",
    "label_m = pipeline_m.predict(movements)\n",
    "\n",
    "#3. Align the cluster labels with the list of company names companies by creating a DataFrame df with labels and companies as columns.\n",
    "df_m = pd.DataFrame({'labels':label_m, 'companies':company})\n",
    "\n",
    "#4. Use the .sort_values() method of df to sort the DataFrame by the 'labels' column, and print the result.\n",
    "print(df_m.sort_values(by='labels'))"
   ],
   "id": "f7a3bb225934224",
   "outputs": [
    {
     "name": "stdout",
     "output_type": "stream",
     "text": [
      "    labels                           companies\n",
      "35       0                            Navistar\n",
      "7        1                               Canon\n",
      "21       1                               Honda\n",
      "15       1                                Ford\n",
      "48       1                              Toyota\n",
      "45       1                                Sony\n",
      "34       1                          Mitsubishi\n",
      "22       1                                  HP\n",
      "58       1                               Xerox\n",
      "23       2                                 IBM\n",
      "33       2                           Microsoft\n",
      "47       2                            Symantec\n",
      "30       2                          MasterCard\n",
      "17       2                     Google/Alphabet\n",
      "25       3                   Johnson & Johnson\n",
      "19       3                     GlaxoSmithKline\n",
      "46       3                      Sanofi-Aventis\n",
      "39       3                              Pfizer\n",
      "9        4                   Colgate-Palmolive\n",
      "27       4                      Kimberly-Clark\n",
      "40       4                      Procter Gamble\n",
      "44       5                        Schlumberger\n",
      "32       5                                  3M\n",
      "53       5                       Valero Energy\n",
      "8        5                         Caterpillar\n",
      "10       5                      ConocoPhillips\n",
      "57       5                               Exxon\n",
      "0        5                               Apple\n",
      "12       5                             Chevron\n",
      "13       5                   DuPont de Nemours\n",
      "29       6                     Lookheed Martin\n",
      "4        6                              Boeing\n",
      "36       6                    Northrop Grumman\n",
      "54       6                            Walgreen\n",
      "55       7                         Wells Fargo\n",
      "1        7                                 AIG\n",
      "26       7                      JPMorgan Chase\n",
      "16       7                   General Electrics\n",
      "3        7                    American express\n",
      "5        7                     Bank of America\n",
      "18       7                       Goldman Sachs\n",
      "59       8                               Yahoo\n",
      "50       8  Taiwan Semiconductor Manufacturing\n",
      "51       8                   Texas instruments\n",
      "11       8                               Cisco\n",
      "2        8                              Amazon\n",
      "14       8                                Dell\n",
      "24       8                               Intel\n",
      "31       9                           McDonalds\n",
      "28       9                           Coca Cola\n",
      "20       9                          Home Depot\n",
      "6        9            British American Tobacco\n",
      "37       9                            Novartis\n",
      "41       9                       Philip Morris\n",
      "43       9                                 SAP\n",
      "38       9                               Pepsi\n",
      "42       9                   Royal Dutch Shell\n",
      "49       9                               Total\n",
      "52       9                            Unilever\n",
      "56       9                            Wal-Mart\n"
     ]
    }
   ],
   "execution_count": 83
  },
  {
   "metadata": {
    "ExecuteTime": {
     "end_time": "2025-07-24T20:57:35.358021Z",
     "start_time": "2025-07-24T20:57:35.348482Z"
    }
   },
   "cell_type": "code",
   "source": "",
   "id": "9a74f13cf6c28469",
   "outputs": [],
   "execution_count": null
  }
 ],
 "metadata": {
  "kernelspec": {
   "display_name": "Python 3",
   "language": "python",
   "name": "python3"
  },
  "language_info": {
   "codemirror_mode": {
    "name": "ipython",
    "version": 2
   },
   "file_extension": ".py",
   "mimetype": "text/x-python",
   "name": "python",
   "nbconvert_exporter": "python",
   "pygments_lexer": "ipython2",
   "version": "2.7.6"
  }
 },
 "nbformat": 4,
 "nbformat_minor": 5
}
