{
 "cells": [
  {
   "metadata": {},
   "cell_type": "markdown",
   "source": [
    "Unsupervised Learning\n",
    "---\n",
    "Unsupervised learning is a class of machine learning techniques for discovering patterns in data. Unsupervised learning is having the machine learn from data that is not labelled, pattern discovery, unguided by prediction task."
   ],
   "id": "b32a7c0b5827d045"
  },
  {
   "cell_type": "code",
   "id": "initial_id",
   "metadata": {
    "collapsed": true,
    "ExecuteTime": {
     "end_time": "2025-07-22T21:54:06.682377Z",
     "start_time": "2025-07-22T21:54:06.625866Z"
    }
   },
   "source": [
    "import numpy as np\n",
    "import pandas as pd\n",
    "import matplotlib.pyplot as plt\n",
    "import warnings\n",
    "warnings.filterwarnings('ignore')"
   ],
   "outputs": [],
   "execution_count": 23
  },
  {
   "metadata": {
    "ExecuteTime": {
     "end_time": "2025-07-22T21:54:06.984558Z",
     "start_time": "2025-07-22T21:54:06.702532Z"
    }
   },
   "cell_type": "code",
   "source": [
    "iris = pd.read_csv(r\"C:\\Users\\Emigb\\Documents\\Data Science\\datasets\\iris.data.csv\", names=[\"Petal Length\", \"Petal Width\", \"Sepal Length\", \"Sepal Width\", \"Species\"])\n",
    "\n",
    "iris_array =  iris.drop('Species', axis=1)\n",
    "iris_array.head()"
   ],
   "id": "a06e02abe03036b3",
   "outputs": [
    {
     "data": {
      "text/plain": [
       "   Petal Length  Petal Width  Sepal Length  Sepal Width\n",
       "0           5.1          3.5           1.4          0.2\n",
       "1           4.9          3.0           1.4          0.2\n",
       "2           4.7          3.2           1.3          0.2\n",
       "3           4.6          3.1           1.5          0.2\n",
       "4           5.0          3.6           1.4          0.2"
      ],
      "text/html": [
       "<div>\n",
       "<style scoped>\n",
       "    .dataframe tbody tr th:only-of-type {\n",
       "        vertical-align: middle;\n",
       "    }\n",
       "\n",
       "    .dataframe tbody tr th {\n",
       "        vertical-align: top;\n",
       "    }\n",
       "\n",
       "    .dataframe thead th {\n",
       "        text-align: right;\n",
       "    }\n",
       "</style>\n",
       "<table border=\"1\" class=\"dataframe\">\n",
       "  <thead>\n",
       "    <tr style=\"text-align: right;\">\n",
       "      <th></th>\n",
       "      <th>Petal Length</th>\n",
       "      <th>Petal Width</th>\n",
       "      <th>Sepal Length</th>\n",
       "      <th>Sepal Width</th>\n",
       "    </tr>\n",
       "  </thead>\n",
       "  <tbody>\n",
       "    <tr>\n",
       "      <th>0</th>\n",
       "      <td>5.1</td>\n",
       "      <td>3.5</td>\n",
       "      <td>1.4</td>\n",
       "      <td>0.2</td>\n",
       "    </tr>\n",
       "    <tr>\n",
       "      <th>1</th>\n",
       "      <td>4.9</td>\n",
       "      <td>3.0</td>\n",
       "      <td>1.4</td>\n",
       "      <td>0.2</td>\n",
       "    </tr>\n",
       "    <tr>\n",
       "      <th>2</th>\n",
       "      <td>4.7</td>\n",
       "      <td>3.2</td>\n",
       "      <td>1.3</td>\n",
       "      <td>0.2</td>\n",
       "    </tr>\n",
       "    <tr>\n",
       "      <th>3</th>\n",
       "      <td>4.6</td>\n",
       "      <td>3.1</td>\n",
       "      <td>1.5</td>\n",
       "      <td>0.2</td>\n",
       "    </tr>\n",
       "    <tr>\n",
       "      <th>4</th>\n",
       "      <td>5.0</td>\n",
       "      <td>3.6</td>\n",
       "      <td>1.4</td>\n",
       "      <td>0.2</td>\n",
       "    </tr>\n",
       "  </tbody>\n",
       "</table>\n",
       "</div>"
      ]
     },
     "execution_count": 24,
     "metadata": {},
     "output_type": "execute_result"
    }
   ],
   "execution_count": 24
  },
  {
   "metadata": {
    "ExecuteTime": {
     "end_time": "2025-07-22T21:54:07.037504Z",
     "start_time": "2025-07-22T21:54:06.998152Z"
    }
   },
   "cell_type": "code",
   "source": [
    "samples = iris_array.sample(n=100, random_state=33)\n",
    "samples.head()"
   ],
   "id": "f83460bf36e86e91",
   "outputs": [
    {
     "data": {
      "text/plain": [
       "     Petal Length  Petal Width  Sepal Length  Sepal Width\n",
       "96            5.7          2.9           4.2          1.3\n",
       "65            6.7          3.1           4.4          1.4\n",
       "29            4.7          3.2           1.6          0.2\n",
       "54            6.5          2.8           4.6          1.5\n",
       "134           6.1          2.6           5.6          1.4"
      ],
      "text/html": [
       "<div>\n",
       "<style scoped>\n",
       "    .dataframe tbody tr th:only-of-type {\n",
       "        vertical-align: middle;\n",
       "    }\n",
       "\n",
       "    .dataframe tbody tr th {\n",
       "        vertical-align: top;\n",
       "    }\n",
       "\n",
       "    .dataframe thead th {\n",
       "        text-align: right;\n",
       "    }\n",
       "</style>\n",
       "<table border=\"1\" class=\"dataframe\">\n",
       "  <thead>\n",
       "    <tr style=\"text-align: right;\">\n",
       "      <th></th>\n",
       "      <th>Petal Length</th>\n",
       "      <th>Petal Width</th>\n",
       "      <th>Sepal Length</th>\n",
       "      <th>Sepal Width</th>\n",
       "    </tr>\n",
       "  </thead>\n",
       "  <tbody>\n",
       "    <tr>\n",
       "      <th>96</th>\n",
       "      <td>5.7</td>\n",
       "      <td>2.9</td>\n",
       "      <td>4.2</td>\n",
       "      <td>1.3</td>\n",
       "    </tr>\n",
       "    <tr>\n",
       "      <th>65</th>\n",
       "      <td>6.7</td>\n",
       "      <td>3.1</td>\n",
       "      <td>4.4</td>\n",
       "      <td>1.4</td>\n",
       "    </tr>\n",
       "    <tr>\n",
       "      <th>29</th>\n",
       "      <td>4.7</td>\n",
       "      <td>3.2</td>\n",
       "      <td>1.6</td>\n",
       "      <td>0.2</td>\n",
       "    </tr>\n",
       "    <tr>\n",
       "      <th>54</th>\n",
       "      <td>6.5</td>\n",
       "      <td>2.8</td>\n",
       "      <td>4.6</td>\n",
       "      <td>1.5</td>\n",
       "    </tr>\n",
       "    <tr>\n",
       "      <th>134</th>\n",
       "      <td>6.1</td>\n",
       "      <td>2.6</td>\n",
       "      <td>5.6</td>\n",
       "      <td>1.4</td>\n",
       "    </tr>\n",
       "  </tbody>\n",
       "</table>\n",
       "</div>"
      ]
     },
     "execution_count": 25,
     "metadata": {},
     "output_type": "execute_result"
    }
   ],
   "execution_count": 25
  },
  {
   "metadata": {},
   "cell_type": "markdown",
   "source": [
    "Clustering 2D points\n",
    "---\n",
    "From the scatter plot of the previous exercise, you saw that the points seem to separate into 3 clusters. You'll now create a KMeans model to find 3 clusters, and fit it to the data points from the previous exercise. After the model has been fit, you'll obtain the cluster labels for some new points using the .predict() method.\n",
    "\n",
    "You are given the array points from the previous exercise, and also an array new_points."
   ],
   "id": "d35e95aeac6f6297"
  },
  {
   "metadata": {
    "ExecuteTime": {
     "end_time": "2025-07-22T21:54:07.360769Z",
     "start_time": "2025-07-22T21:54:07.060094Z"
    }
   },
   "cell_type": "code",
   "source": [
    "#1. Import KMeans from sklearn.cluster.\n",
    "from sklearn.cluster import KMeans\n",
    "\n",
    "#2. Using KMeans(), create a KMeans instance called model to find 3 clusters. 3. To specify the number of clusters, use the n_clusters keyword argument.\n",
    "model =  KMeans(n_clusters = 3)\n",
    "\n",
    "#3. Use the .fit() method of model to fit the model to the samples.\n",
    "model.fit(samples)\n",
    "\n",
    "#4. Use the .predict() method of model to predict the cluster labels of samples, assigning the result to labels.\n",
    "labels = model.predict(samples)\n",
    "\n",
    "# Print cluster labels of samples\n",
    "print(labels)\n"
   ],
   "id": "8d8ed3d1c2c8911a",
   "outputs": [
    {
     "name": "stdout",
     "output_type": "stream",
     "text": [
      "[2 2 0 2 1 1 0 0 1 1 1 0 1 2 1 2 2 0 2 1 0 0 1 0 2 2 2 2 1 2 2 2 2 1 1 1 2\n",
      " 2 2 0 2 2 2 0 0 2 0 1 0 0 2 1 0 2 2 1 2 2 0 0 2 0 0 1 2 2 1 1 1 2 0 0 2 2\n",
      " 0 2 2 2 1 0 1 0 2 0 1 2 0 1 2 0 0 1 0 0 0 1 1 0 2 0]\n"
     ]
    }
   ],
   "execution_count": 26
  },
  {
   "metadata": {},
   "cell_type": "markdown",
   "source": [
    "Visualizing The clustering\n",
    "----\n",
    "Let's now inspect the clustering you performed in the previous exercise!"
   ],
   "id": "93d20f2ebcec56a4"
  },
  {
   "metadata": {
    "ExecuteTime": {
     "end_time": "2025-07-22T21:54:07.637336Z",
     "start_time": "2025-07-22T21:54:07.368346Z"
    }
   },
   "cell_type": "code",
   "source": [
    "#2. Assign column 0 of samples to xs, and column 1 of samples to ys.\n",
    "xs = samples.iloc[:,0]\n",
    "ys = samples.iloc[:,1]\n",
    "\n",
    "\n",
    "#3. Make a scatter plot of xs and ys, specifying the c=labels keyword arguments to color the points by their cluster label.\n",
    "plt.scatter(xs,ys, c=labels);"
   ],
   "id": "cf6ae837c3b7cdc3",
   "outputs": [
    {
     "data": {
      "text/plain": [
       "<Figure size 640x480 with 1 Axes>"
      ],
      "image/png": "[encoded data removed]"
     },
     "metadata": {},
     "output_type": "display_data"
    }
   ],
   "execution_count": 27
  },
  {
   "metadata": {
    "ExecuteTime": {
     "end_time": "2025-07-22T21:54:07.826993Z",
     "start_time": "2025-07-22T21:54:07.652195Z"
    }
   },
   "cell_type": "code",
   "source": [
    "#4.Compute the coordinates of the centroids using the .cluster_centers_ attribute of model.\n",
    "centroids = model.cluster_centers_\n",
    "\n",
    "#5. Assign column 0 of centroids to centroids_x, and column 1 of centroids to centroids_y.\n",
    "centroids_x = centroids[:,0]\n",
    "centroids_y = centroids[:,1]\n",
    "\n",
    "#6. Make a scatter plot of centroids_x and centroids_y, using 'D' (a diamond) as a marker by specifying the marker parameter. Set the size of the markers to be 50 using s=50.\n",
    "\n",
    "plt.scatter(centroids_x, centroids_y, marker='D', s=50);"
   ],
   "id": "768f09eaf30a8c39",
   "outputs": [
    {
     "data": {
      "text/plain": [
       "<Figure size 640x480 with 1 Axes>"
      ],
      "image/png": "[encoded data removed]"
     },
     "metadata": {},
     "output_type": "display_data"
    }
   ],
   "execution_count": 28
  },
  {
   "metadata": {},
   "cell_type": "markdown",
   "source": [
    "How many clusters of grain?\n",
    "----\n",
    "In the video, you learned how to choose a good number of clusters for a dataset using the k-means inertia graph. You are given an array samples containing the measurements (such as area, perimeter, length, and several others) of samples of grain. What's a good number of clusters in this case?\n",
    "\n",
    "KMeans and PyPlot (plt) have already been imported for you.\n",
    "\n",
    "This dataset was sourced from the UCI Machine Learning Repository."
   ],
   "id": "4ee885ee28599e57"
  },
  {
   "metadata": {
    "ExecuteTime": {
     "end_time": "2025-07-22T22:37:04.953175Z",
     "start_time": "2025-07-22T22:37:04.909236Z"
    }
   },
   "cell_type": "code",
   "source": [
    "grains = pd.read_csv(r\"C:\\Users\\Emigb\\Documents\\Data Science\\datasets\\Grains\\seeds.csv\")\n",
    "grains.head()"
   ],
   "id": "590cf923b8471dcb",
   "outputs": [
    {
     "data": {
      "text/plain": [
       "       1      2       3      4      5      6      7 Varieties\n",
       "0  15.26  14.84  0.8710  5.763  3.312  2.221  5.220      Rosa\n",
       "1  14.88  14.57  0.8811  5.554  3.333  1.018  4.956      Rosa\n",
       "2  14.29  14.09  0.9050  5.291  3.337  2.699  4.825      Rosa\n",
       "3  13.84  13.94  0.8955  5.324  3.379  2.259  4.805      Rosa\n",
       "4  16.14  14.99  0.9034  5.658  3.562  1.355  5.175      Rosa"
      ],
      "text/html": [
       "<div>\n",
       "<style scoped>\n",
       "    .dataframe tbody tr th:only-of-type {\n",
       "        vertical-align: middle;\n",
       "    }\n",
       "\n",
       "    .dataframe tbody tr th {\n",
       "        vertical-align: top;\n",
       "    }\n",
       "\n",
       "    .dataframe thead th {\n",
       "        text-align: right;\n",
       "    }\n",
       "</style>\n",
       "<table border=\"1\" class=\"dataframe\">\n",
       "  <thead>\n",
       "    <tr style=\"text-align: right;\">\n",
       "      <th></th>\n",
       "      <th>1</th>\n",
       "      <th>2</th>\n",
       "      <th>3</th>\n",
       "      <th>4</th>\n",
       "      <th>5</th>\n",
       "      <th>6</th>\n",
       "      <th>7</th>\n",
       "      <th>Varieties</th>\n",
       "    </tr>\n",
       "  </thead>\n",
       "  <tbody>\n",
       "    <tr>\n",
       "      <th>0</th>\n",
       "      <td>15.26</td>\n",
       "      <td>14.84</td>\n",
       "      <td>0.8710</td>\n",
       "      <td>5.763</td>\n",
       "      <td>3.312</td>\n",
       "      <td>2.221</td>\n",
       "      <td>5.220</td>\n",
       "      <td>Rosa</td>\n",
       "    </tr>\n",
       "    <tr>\n",
       "      <th>1</th>\n",
       "      <td>14.88</td>\n",
       "      <td>14.57</td>\n",
       "      <td>0.8811</td>\n",
       "      <td>5.554</td>\n",
       "      <td>3.333</td>\n",
       "      <td>1.018</td>\n",
       "      <td>4.956</td>\n",
       "      <td>Rosa</td>\n",
       "    </tr>\n",
       "    <tr>\n",
       "      <th>2</th>\n",
       "      <td>14.29</td>\n",
       "      <td>14.09</td>\n",
       "      <td>0.9050</td>\n",
       "      <td>5.291</td>\n",
       "      <td>3.337</td>\n",
       "      <td>2.699</td>\n",
       "      <td>4.825</td>\n",
       "      <td>Rosa</td>\n",
       "    </tr>\n",
       "    <tr>\n",
       "      <th>3</th>\n",
       "      <td>13.84</td>\n",
       "      <td>13.94</td>\n",
       "      <td>0.8955</td>\n",
       "      <td>5.324</td>\n",
       "      <td>3.379</td>\n",
       "      <td>2.259</td>\n",
       "      <td>4.805</td>\n",
       "      <td>Rosa</td>\n",
       "    </tr>\n",
       "    <tr>\n",
       "      <th>4</th>\n",
       "      <td>16.14</td>\n",
       "      <td>14.99</td>\n",
       "      <td>0.9034</td>\n",
       "      <td>5.658</td>\n",
       "      <td>3.562</td>\n",
       "      <td>1.355</td>\n",
       "      <td>5.175</td>\n",
       "      <td>Rosa</td>\n",
       "    </tr>\n",
       "  </tbody>\n",
       "</table>\n",
       "</div>"
      ]
     },
     "execution_count": 47,
     "metadata": {},
     "output_type": "execute_result"
    }
   ],
   "execution_count": 47
  },
  {
   "metadata": {
    "ExecuteTime": {
     "end_time": "2025-07-22T22:37:44.908129Z",
     "start_time": "2025-07-22T22:37:44.879834Z"
    }
   },
   "cell_type": "code",
   "source": [
    "#Converting The PD DataFrame to a NumPy array\n",
    "sample_g = grains.iloc[:, :-1].values   # all columns except last\n",
    "varieties = grains.iloc[:, -1].values  # last column with variety names"
   ],
   "id": "deff6e2ed5e4361f",
   "outputs": [],
   "execution_count": 48
  },
  {
   "metadata": {
    "ExecuteTime": {
     "end_time": "2025-07-22T22:37:48.879105Z",
     "start_time": "2025-07-22T22:37:48.443354Z"
    }
   },
   "cell_type": "code",
   "source": [
    "ks = range(1,6)\n",
    "inertias = []\n",
    "\n",
    "for k in ks:\n",
    "    #1. Create a KMeans instance called model with k clusters.\n",
    "    model = KMeans(n_clusters = k)\n",
    "\n",
    "    #2. Fit the model to the grain data samples.\n",
    "    model.fit(sample_g)\n",
    "\n",
    "    #3. Append the value of the inertia_ attribute of model to the list inertias.\n",
    "    inertias.append(model.inertia_)\n",
    "\n",
    "#4. The code to plot ks vs inertias has been written for you, so hit submit to see the plot!\n",
    "plt.plot(ks, inertias, '-o')\n",
    "plt.xlabel('number of clusters, k')\n",
    "plt.ylabel('inertia')\n",
    "plt.xticks(ks);"
   ],
   "id": "654d1366260109ee",
   "outputs": [
    {
     "data": {
      "text/plain": [
       "<Figure size 640x480 with 1 Axes>"
      ],
      "image/png": "[encoded data removed]"
     },
     "metadata": {},
     "output_type": "display_data"
    }
   ],
   "execution_count": 49
  },
  {
   "metadata": {},
   "cell_type": "markdown",
   "source": [
    "Evaluating the grain clustering\n",
    "----\n",
    "In the previous exercise, you observed from the inertia plot that 3 is a good number of clusters for the grain data. In fact, the grain samples come from a mix of 3 different grain varieties: \"Kama\", \"Rosa\" and \"Canadian\". In this exercise, cluster the grain samples into three clusters, and compare the clusters to the grain varieties using a cross-tabulation.\n",
    "\n",
    "You have the array samples of grain samples(sample_g), and a list varieties giving the grain variety for each sample. Pandas (pd) and KMeans have already been imported for you."
   ],
   "id": "a53a36dc8adbc231"
  },
  {
   "metadata": {
    "ExecuteTime": {
     "end_time": "2025-07-22T22:38:14.158793Z",
     "start_time": "2025-07-22T22:38:13.882411Z"
    }
   },
   "cell_type": "code",
   "source": [
    "#1. Create a KMeans model called model with 3 clusters.\n",
    "kmeans = KMeans(n_clusters=3)\n",
    "\n",
    "#2. Use the .fit_predict() method of model to fit it to samples and derive the cluster labels. Using .fit_predict() is the same as using .fit() followed by .predict().\n",
    "labels_g = kmeans.fit_predict(sample_g)\n",
    "\n",
    "#3. Create a DataFrame df with two columns named 'labels' and 'varieties', using labels and varieties, respectively, for the column values.\n",
    "df = pd.DataFrame({'labels': labels_g, 'varieties': varieties})\n",
    "\n",
    "#4. Use the pd.crosstab() function on df['labels'] and df['varieties'] to count the number of times each grain variety coincides with each cluster label. Assign the result to ct.\n",
    "ct = pd.crosstab(df['labels'], df['varieties'])\n",
    "\n",
    "print(ct)\n"
   ],
   "id": "7b63615fac4c6bdd",
   "outputs": [
    {
     "name": "stdout",
     "output_type": "stream",
     "text": [
      "varieties  Canadian  Kama  Rosa\n",
      "labels                         \n",
      "0                 2    10    60\n",
      "1                68     0     9\n",
      "2                 0    60     1\n"
     ]
    }
   ],
   "execution_count": 50
  },
  {
   "metadata": {},
   "cell_type": "markdown",
   "source": [
    "Scaling fish data for clustering\n",
    "----\n",
    "You are given an array samples giving measurements of fish. Each row represents an individual fish. The measurements, such as weight in grams, length in centimeters, and the percentage ratio of height to length, have very different scales. In order to cluster this data effectively, you'll need to standardize these features first. In this exercise, you'll build a pipeline to standardize and cluster the data.\n",
    "\n",
    "These fish measurement data were sourced from the Journal of Statistics Education."
   ],
   "id": "fe6d30cd080ccf0b"
  },
  {
   "metadata": {
    "ExecuteTime": {
     "end_time": "2025-07-22T22:43:53.149179Z",
     "start_time": "2025-07-22T22:43:52.912388Z"
    }
   },
   "cell_type": "code",
   "source": [
    "fish = pd.read_csv(r\"C:\\Users\\Emigb\\Documents\\Data Science\\datasets\\fish.csv\", header=None)\n",
    "fish.head()"
   ],
   "id": "3c45656489e48255",
   "outputs": [
    {
     "data": {
      "text/plain": [
       "       0      1     2     3     4     5     6\n",
       "0  Bream  242.0  23.2  25.4  30.0  38.4  13.4\n",
       "1  Bream  290.0  24.0  26.3  31.2  40.0  13.8\n",
       "2  Bream  340.0  23.9  26.5  31.1  39.8  15.1\n",
       "3  Bream  363.0  26.3  29.0  33.5  38.0  13.3\n",
       "4  Bream  430.0  26.5  29.0  34.0  36.6  15.1"
      ],
      "text/html": [
       "<div>\n",
       "<style scoped>\n",
       "    .dataframe tbody tr th:only-of-type {\n",
       "        vertical-align: middle;\n",
       "    }\n",
       "\n",
       "    .dataframe tbody tr th {\n",
       "        vertical-align: top;\n",
       "    }\n",
       "\n",
       "    .dataframe thead th {\n",
       "        text-align: right;\n",
       "    }\n",
       "</style>\n",
       "<table border=\"1\" class=\"dataframe\">\n",
       "  <thead>\n",
       "    <tr style=\"text-align: right;\">\n",
       "      <th></th>\n",
       "      <th>0</th>\n",
       "      <th>1</th>\n",
       "      <th>2</th>\n",
       "      <th>3</th>\n",
       "      <th>4</th>\n",
       "      <th>5</th>\n",
       "      <th>6</th>\n",
       "    </tr>\n",
       "  </thead>\n",
       "  <tbody>\n",
       "    <tr>\n",
       "      <th>0</th>\n",
       "      <td>Bream</td>\n",
       "      <td>242.0</td>\n",
       "      <td>23.2</td>\n",
       "      <td>25.4</td>\n",
       "      <td>30.0</td>\n",
       "      <td>38.4</td>\n",
       "      <td>13.4</td>\n",
       "    </tr>\n",
       "    <tr>\n",
       "      <th>1</th>\n",
       "      <td>Bream</td>\n",
       "      <td>290.0</td>\n",
       "      <td>24.0</td>\n",
       "      <td>26.3</td>\n",
       "      <td>31.2</td>\n",
       "      <td>40.0</td>\n",
       "      <td>13.8</td>\n",
       "    </tr>\n",
       "    <tr>\n",
       "      <th>2</th>\n",
       "      <td>Bream</td>\n",
       "      <td>340.0</td>\n",
       "      <td>23.9</td>\n",
       "      <td>26.5</td>\n",
       "      <td>31.1</td>\n",
       "      <td>39.8</td>\n",
       "      <td>15.1</td>\n",
       "    </tr>\n",
       "    <tr>\n",
       "      <th>3</th>\n",
       "      <td>Bream</td>\n",
       "      <td>363.0</td>\n",
       "      <td>26.3</td>\n",
       "      <td>29.0</td>\n",
       "      <td>33.5</td>\n",
       "      <td>38.0</td>\n",
       "      <td>13.3</td>\n",
       "    </tr>\n",
       "    <tr>\n",
       "      <th>4</th>\n",
       "      <td>Bream</td>\n",
       "      <td>430.0</td>\n",
       "      <td>26.5</td>\n",
       "      <td>29.0</td>\n",
       "      <td>34.0</td>\n",
       "      <td>36.6</td>\n",
       "      <td>15.1</td>\n",
       "    </tr>\n",
       "  </tbody>\n",
       "</table>\n",
       "</div>"
      ]
     },
     "execution_count": 51,
     "metadata": {},
     "output_type": "execute_result"
    }
   ],
   "execution_count": 51
  },
  {
   "metadata": {
    "ExecuteTime": {
     "end_time": "2025-07-22T22:46:51.759166Z",
     "start_time": "2025-07-22T22:46:51.718917Z"
    }
   },
   "cell_type": "code",
   "source": "sample_f = fish.iloc[:, 1:].values",
   "id": "2c26b520c3ae17f6",
   "outputs": [],
   "execution_count": 53
  },
  {
   "metadata": {
    "ExecuteTime": {
     "end_time": "2025-07-22T22:48:32.768479Z",
     "start_time": "2025-07-22T22:48:32.759414Z"
    }
   },
   "cell_type": "code",
   "source": [
    "#1. Import relevant libraries\n",
    "from sklearn.pipeline import make_pipeline\n",
    "from sklearn.preprocessing import StandardScaler"
   ],
   "id": "38893b48b2e583a0",
   "outputs": [],
   "execution_count": 56
  },
  {
   "metadata": {
    "ExecuteTime": {
     "end_time": "2025-07-22T22:51:05.310841Z",
     "start_time": "2025-07-22T22:51:05.289281Z"
    }
   },
   "cell_type": "code",
   "source": [
    "#2. Create an instance of StandardScaler called scaler.\n",
    "scaler = StandardScaler()\n",
    "\n",
    "#3. Create an instance of KMeans with 4 clusters called kmeans.\n",
    "kmeansf = KMeans(n_clusters = 4)\n",
    "\n",
    "#4. Create a pipeline called pipeline that chains scaler and kmeans. To do this, you just need to pass them in as arguments to make_pipeline().\n",
    "pipeline = make_pipeline(scaler, kmeansf)"
   ],
   "id": "9bd8e39787c7133e",
   "outputs": [],
   "execution_count": 57
  },
  {
   "metadata": {},
   "cell_type": "code",
   "outputs": [],
   "execution_count": null,
   "source": "",
   "id": "3ff237f2f48c58ff"
  }
 ],
 "metadata": {
  "kernelspec": {
   "display_name": "Python 3",
   "language": "python",
   "name": "python3"
  },
  "language_info": {
   "codemirror_mode": {
    "name": "ipython",
    "version": 2
   },
   "file_extension": ".py",
   "mimetype": "text/x-python",
   "name": "python",
   "nbconvert_exporter": "python",
   "pygments_lexer": "ipython2",
   "version": "2.7.6"
  }
 },
 "nbformat": 4,
 "nbformat_minor": 5
}
