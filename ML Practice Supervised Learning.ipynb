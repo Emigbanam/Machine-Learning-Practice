{
 "cells": [
  {
   "cell_type": "code",
   "id": "initial_id",
   "metadata": {
    "collapsed": true,
    "ExecuteTime": {
     "end_time": "2025-07-02T22:59:36.230658Z",
     "start_time": "2025-07-02T22:59:36.225099Z"
    }
   },
   "source": [
    "import numpy as np\n",
    "import pandas as pd\n",
    "import matplotlib.pyplot as plt\n",
    "from sklearn.model_selection import train_test_split"
   ],
   "outputs": [],
   "execution_count": 69
  },
  {
   "metadata": {
    "ExecuteTime": {
     "end_time": "2025-07-02T22:59:36.283126Z",
     "start_time": "2025-07-02T22:59:36.247430Z"
    }
   },
   "cell_type": "code",
   "source": [
    "churn = pd.read_csv(\"C:/Users/Emigb/Documents/Data Science/datasets/telecom_churn_clean.csv\")\n",
    "churn.head()"
   ],
   "id": "4a4e05b85f7ef301",
   "outputs": [
    {
     "data": {
      "text/plain": [
       "   Unnamed: 0  account_length  area_code  international_plan  voice_mail_plan  \\\n",
       "0           0             128        415                   0                1   \n",
       "1           1             107        415                   0                1   \n",
       "2           2             137        415                   0                0   \n",
       "3           3              84        408                   1                0   \n",
       "4           4              75        415                   1                0   \n",
       "\n",
       "   number_vmail_messages  total_day_minutes  total_day_calls  \\\n",
       "0                     25              265.1              110   \n",
       "1                     26              161.6              123   \n",
       "2                      0              243.4              114   \n",
       "3                      0              299.4               71   \n",
       "4                      0              166.7              113   \n",
       "\n",
       "   total_day_charge  total_eve_minutes  total_eve_calls  total_eve_charge  \\\n",
       "0             45.07              197.4               99             16.78   \n",
       "1             27.47              195.5              103             16.62   \n",
       "2             41.38              121.2              110             10.30   \n",
       "3             50.90               61.9               88              5.26   \n",
       "4             28.34              148.3              122             12.61   \n",
       "\n",
       "   total_night_minutes  total_night_calls  total_night_charge  \\\n",
       "0                244.7                 91               11.01   \n",
       "1                254.4                103               11.45   \n",
       "2                162.6                104                7.32   \n",
       "3                196.9                 89                8.86   \n",
       "4                186.9                121                8.41   \n",
       "\n",
       "   total_intl_minutes  total_intl_calls  total_intl_charge  \\\n",
       "0                10.0                 3               2.70   \n",
       "1                13.7                 3               3.70   \n",
       "2                12.2                 5               3.29   \n",
       "3                 6.6                 7               1.78   \n",
       "4                10.1                 3               2.73   \n",
       "\n",
       "   customer_service_calls  churn  \n",
       "0                       1      0  \n",
       "1                       1      0  \n",
       "2                       0      0  \n",
       "3                       2      0  \n",
       "4                       3      0  "
      ],
      "text/html": [
       "<div>\n",
       "<style scoped>\n",
       "    .dataframe tbody tr th:only-of-type {\n",
       "        vertical-align: middle;\n",
       "    }\n",
       "\n",
       "    .dataframe tbody tr th {\n",
       "        vertical-align: top;\n",
       "    }\n",
       "\n",
       "    .dataframe thead th {\n",
       "        text-align: right;\n",
       "    }\n",
       "</style>\n",
       "<table border=\"1\" class=\"dataframe\">\n",
       "  <thead>\n",
       "    <tr style=\"text-align: right;\">\n",
       "      <th></th>\n",
       "      <th>Unnamed: 0</th>\n",
       "      <th>account_length</th>\n",
       "      <th>area_code</th>\n",
       "      <th>international_plan</th>\n",
       "      <th>voice_mail_plan</th>\n",
       "      <th>number_vmail_messages</th>\n",
       "      <th>total_day_minutes</th>\n",
       "      <th>total_day_calls</th>\n",
       "      <th>total_day_charge</th>\n",
       "      <th>total_eve_minutes</th>\n",
       "      <th>total_eve_calls</th>\n",
       "      <th>total_eve_charge</th>\n",
       "      <th>total_night_minutes</th>\n",
       "      <th>total_night_calls</th>\n",
       "      <th>total_night_charge</th>\n",
       "      <th>total_intl_minutes</th>\n",
       "      <th>total_intl_calls</th>\n",
       "      <th>total_intl_charge</th>\n",
       "      <th>customer_service_calls</th>\n",
       "      <th>churn</th>\n",
       "    </tr>\n",
       "  </thead>\n",
       "  <tbody>\n",
       "    <tr>\n",
       "      <th>0</th>\n",
       "      <td>0</td>\n",
       "      <td>128</td>\n",
       "      <td>415</td>\n",
       "      <td>0</td>\n",
       "      <td>1</td>\n",
       "      <td>25</td>\n",
       "      <td>265.1</td>\n",
       "      <td>110</td>\n",
       "      <td>45.07</td>\n",
       "      <td>197.4</td>\n",
       "      <td>99</td>\n",
       "      <td>16.78</td>\n",
       "      <td>244.7</td>\n",
       "      <td>91</td>\n",
       "      <td>11.01</td>\n",
       "      <td>10.0</td>\n",
       "      <td>3</td>\n",
       "      <td>2.70</td>\n",
       "      <td>1</td>\n",
       "      <td>0</td>\n",
       "    </tr>\n",
       "    <tr>\n",
       "      <th>1</th>\n",
       "      <td>1</td>\n",
       "      <td>107</td>\n",
       "      <td>415</td>\n",
       "      <td>0</td>\n",
       "      <td>1</td>\n",
       "      <td>26</td>\n",
       "      <td>161.6</td>\n",
       "      <td>123</td>\n",
       "      <td>27.47</td>\n",
       "      <td>195.5</td>\n",
       "      <td>103</td>\n",
       "      <td>16.62</td>\n",
       "      <td>254.4</td>\n",
       "      <td>103</td>\n",
       "      <td>11.45</td>\n",
       "      <td>13.7</td>\n",
       "      <td>3</td>\n",
       "      <td>3.70</td>\n",
       "      <td>1</td>\n",
       "      <td>0</td>\n",
       "    </tr>\n",
       "    <tr>\n",
       "      <th>2</th>\n",
       "      <td>2</td>\n",
       "      <td>137</td>\n",
       "      <td>415</td>\n",
       "      <td>0</td>\n",
       "      <td>0</td>\n",
       "      <td>0</td>\n",
       "      <td>243.4</td>\n",
       "      <td>114</td>\n",
       "      <td>41.38</td>\n",
       "      <td>121.2</td>\n",
       "      <td>110</td>\n",
       "      <td>10.30</td>\n",
       "      <td>162.6</td>\n",
       "      <td>104</td>\n",
       "      <td>7.32</td>\n",
       "      <td>12.2</td>\n",
       "      <td>5</td>\n",
       "      <td>3.29</td>\n",
       "      <td>0</td>\n",
       "      <td>0</td>\n",
       "    </tr>\n",
       "    <tr>\n",
       "      <th>3</th>\n",
       "      <td>3</td>\n",
       "      <td>84</td>\n",
       "      <td>408</td>\n",
       "      <td>1</td>\n",
       "      <td>0</td>\n",
       "      <td>0</td>\n",
       "      <td>299.4</td>\n",
       "      <td>71</td>\n",
       "      <td>50.90</td>\n",
       "      <td>61.9</td>\n",
       "      <td>88</td>\n",
       "      <td>5.26</td>\n",
       "      <td>196.9</td>\n",
       "      <td>89</td>\n",
       "      <td>8.86</td>\n",
       "      <td>6.6</td>\n",
       "      <td>7</td>\n",
       "      <td>1.78</td>\n",
       "      <td>2</td>\n",
       "      <td>0</td>\n",
       "    </tr>\n",
       "    <tr>\n",
       "      <th>4</th>\n",
       "      <td>4</td>\n",
       "      <td>75</td>\n",
       "      <td>415</td>\n",
       "      <td>1</td>\n",
       "      <td>0</td>\n",
       "      <td>0</td>\n",
       "      <td>166.7</td>\n",
       "      <td>113</td>\n",
       "      <td>28.34</td>\n",
       "      <td>148.3</td>\n",
       "      <td>122</td>\n",
       "      <td>12.61</td>\n",
       "      <td>186.9</td>\n",
       "      <td>121</td>\n",
       "      <td>8.41</td>\n",
       "      <td>10.1</td>\n",
       "      <td>3</td>\n",
       "      <td>2.73</td>\n",
       "      <td>3</td>\n",
       "      <td>0</td>\n",
       "    </tr>\n",
       "  </tbody>\n",
       "</table>\n",
       "</div>"
      ]
     },
     "execution_count": 70,
     "metadata": {},
     "output_type": "execute_result"
    }
   ],
   "execution_count": 70
  },
  {
   "metadata": {},
   "cell_type": "markdown",
   "source": "K NEAREST NEIGHBOR",
   "id": "92662ed1dea24b70"
  },
  {
   "metadata": {},
   "cell_type": "markdown",
   "source": [
    "k-Nearest Neighbors: Fit\n",
    "In this exercise, you will build your first classification model using the churn_df dataset, which has been preloaded for the remainder of the chapter.\n",
    "\n",
    "The target, \"churn\", needs to be a single column with the same number of observations as the feature data. The feature data has already been converted into numpy arrays.\n",
    "\n",
    "\"account_length\" and \"customer_service_calls\" are treated as features because account length indicates customer loyalty, and frequent customer service calls may signal dissatisfaction, both of which can be good predictors of churn.\n"
   ],
   "id": "476ae4bddfc8e6e3"
  },
  {
   "metadata": {},
   "cell_type": "markdown",
   "source": "k-Nearest Neighbors: Fit & Predict",
   "id": "13b2273078e8d2e5"
  },
  {
   "metadata": {
    "ExecuteTime": {
     "end_time": "2025-07-02T22:59:36.324900Z",
     "start_time": "2025-07-02T22:59:36.297361Z"
    }
   },
   "cell_type": "code",
   "source": [
    "#1. Import KNeighborsClassifier from sklearn.neighbors.\n",
    "\n",
    "from sklearn.neighbors import KNeighborsClassifier\n",
    "X = churn[['account_length','customer_service_calls']].values\n",
    "y= churn['churn'].values\n",
    "print(X.shape, y.shape)\n"
   ],
   "id": "41fa5798d7baefab",
   "outputs": [
    {
     "name": "stdout",
     "output_type": "stream",
     "text": [
      "(3333, 2) (3333,)\n"
     ]
    }
   ],
   "execution_count": 71
  },
  {
   "metadata": {
    "ExecuteTime": {
     "end_time": "2025-07-02T22:59:36.385692Z",
     "start_time": "2025-07-02T22:59:36.347842Z"
    }
   },
   "cell_type": "code",
   "source": [
    "#2. Instantiate a KNeighborsClassifier called knn with 6 neighbors.\n",
    "knn = KNeighborsClassifier(n_neighbors = 6)\n",
    "\n",
    "#3. Fit the classifier to the data using the .fit() method.\n",
    "knn.fit(X,y)\n",
    "\n",
    "X_new = np.array([[30.0, 17.5],\n",
    "                  [107.0, 24.1],\n",
    "                  [213.0, 10.9]])\n",
    "\n",
    "#4. Create y_pred by predicting the target values of the unseen features X_new using the knn model.\n",
    "\n",
    "y_pred = knn.predict(X_new)\n",
    "\n",
    "#5. Print the predicted labels for the set of predictions.\n",
    "\n",
    "print(\"Predictions: {}\".format(y_pred))"
   ],
   "id": "5380932ebf7e3661",
   "outputs": [
    {
     "name": "stdout",
     "output_type": "stream",
     "text": [
      "Predictions: [0 1 0]\n"
     ]
    }
   ],
   "execution_count": 72
  },
  {
   "metadata": {},
   "cell_type": "markdown",
   "source": "Train/test split + computing accuracy",
   "id": "95c3f7ff94e282e0"
  },
  {
   "metadata": {
    "ExecuteTime": {
     "end_time": "2025-07-02T22:59:36.459014Z",
     "start_time": "2025-07-02T22:59:36.393888Z"
    }
   },
   "cell_type": "code",
   "source": [
    "#1. Import train_test_split from sklearn.model_selection.\n",
    "\n",
    "from sklearn.model_selection import train_test_split\n",
    "\n",
    "X_2 = churn.drop('churn', axis=1).values\n",
    "y_2 = churn['churn'].values\n",
    "\n",
    "\n",
    "#2. Split X and y into training and test sets, setting test_size equal to 20%, random_state to 42, and ensuring the target label proportions reflect that of the original dataset.\n",
    "X_train, X_test, y_train, y_test = train_test_split(X_2,y_2, test_size = 0.2, random_state = 42, stratify = y)\n",
    "\n",
    "knn = KNeighborsClassifier(n_neighbors = 5)\n",
    "\n",
    "#3. Fit the knn model to the training data. Compute and print the model's accuracy for the test data.\n",
    "knn.fit(X_train, y_train)\n",
    "\n",
    "print(knn.score(X_test, y_test))\n",
    "\n"
   ],
   "id": "f496764d93150b9",
   "outputs": [
    {
     "name": "stdout",
     "output_type": "stream",
     "text": [
      "0.8545727136431784\n"
     ]
    }
   ],
   "execution_count": 73
  },
  {
   "metadata": {},
   "cell_type": "markdown",
   "source": "Overfitting And Underfitting",
   "id": "928c41550f13bbd0"
  },
  {
   "metadata": {},
   "cell_type": "markdown",
   "source": [
    "Interpreting model complexity is a great way to evaluate supervised learning performance. Your aim is to produce a model that can interpret the relationship between features and the target variable, as well as generalize well when exposed to new observations.\n",
    "\n",
    "The training and test sets have been created from the churn_df dataset and preloaded as X_train, X_test, y_train, and y_test.\n",
    "\n",
    "In addition, KNeighborsClassifier has been imported for you along with numpy as np."
   ],
   "id": "d9770f7c2d0c9fb4"
  },
  {
   "metadata": {
    "ExecuteTime": {
     "end_time": "2025-07-02T22:59:36.821741Z",
     "start_time": "2025-07-02T22:59:36.479512Z"
    }
   },
   "cell_type": "code",
   "source": [
    "#1. Create neighbors as a numpy array of values from 1 up to and including 12.\n",
    "neighbors = np.arange(1,13)\n",
    "train_accuracies = {}\n",
    "test_accuracies = {}\n",
    "\n",
    "\n",
    "#2. Instantiate a KNeighborsClassifier, with the number of neighbors equal to the neighbor iterator.\n",
    "for neighbor in neighbors:\n",
    "    knn = KNeighborsClassifier(n_neighbors = neighbor)\n",
    "\n",
    "#3. Fit the model to the training data.\n",
    "    knn.fit(X_train, y_train)\n",
    "\n",
    "#4. Calculate accuracy scores for the training set and test set separately using the .score() method, and assign the results to the train_accuracies and test_accuracies dictionaries, respectively, utilizing the neighbor iterator as the index.\n",
    "\n",
    "    train_accuracies[neighbor] = knn.score(X_train,y_train)\n",
    "    test_accuracies[neighbor] = knn.score(X_test, y_test)\n",
    "\n",
    "\n",
    "print(neighbors, '\\n', train_accuracies, '\\n', test_accuracies)\n",
    "\n"
   ],
   "id": "c1dd54047ba39dbf",
   "outputs": [
    {
     "name": "stdout",
     "output_type": "stream",
     "text": [
      "[ 1  2  3  4  5  6  7  8  9 10 11 12] \n",
      " {np.int64(1): 1.0, np.int64(2): 0.8885971492873218, np.int64(3): 0.8994748687171793, np.int64(4): 0.8750937734433608, np.int64(5): 0.878469617404351, np.int64(6): 0.8660915228807202, np.int64(7): 0.8705926481620405, np.int64(8): 0.8615903975993998, np.int64(9): 0.86384096024006, np.int64(10): 0.858589647411853, np.int64(11): 0.8604651162790697, np.int64(12): 0.8574643660915229} \n",
      " {np.int64(1): 0.7856071964017991, np.int64(2): 0.8470764617691154, np.int64(3): 0.8320839580209896, np.int64(4): 0.856071964017991, np.int64(5): 0.8545727136431784, np.int64(6): 0.8590704647676162, np.int64(7): 0.8605697151424287, np.int64(8): 0.8620689655172413, np.int64(9): 0.863568215892054, np.int64(10): 0.8605697151424287, np.int64(11): 0.8605697151424287, np.int64(12): 0.8605697151424287}\n"
     ]
    }
   ],
   "execution_count": 74
  },
  {
   "metadata": {},
   "cell_type": "markdown",
   "source": "Visualizing model complexity",
   "id": "68a1a63607c247e1"
  },
  {
   "metadata": {},
   "cell_type": "markdown",
   "source": [
    "Now you have calculated the accuracy of the KNN model on the training and test sets using various values of n_neighbors, you can create a model complexity curve to visualize how performance changes as the model becomes less complex!\n",
    "\n",
    "The variables neighbors, train_accuracies, and test_accuracies, which you generated in the previous exercise, have all been preloaded for you. You will plot the results to aid in finding the optimal number of neighbors for your model."
   ],
   "id": "866d58857a4ce6e3"
  },
  {
   "metadata": {
    "ExecuteTime": {
     "end_time": "2025-07-02T22:59:37.019415Z",
     "start_time": "2025-07-02T22:59:36.830440Z"
    }
   },
   "cell_type": "code",
   "source": [
    "#1. Add a title \"KNN: Varying Number of Neighbors\".\n",
    "plt.title(\"KNN: Varying Number of Neighbors\")\n",
    "\n",
    "#2. Plot the .values() method of train_accuracies on the y-axis against neighbors on the x-axis, with a label of \"Training Accuracy\".\n",
    "plt.plot(neighbors, train_accuracies.values(), label='Training Accuracy')\n",
    "\n",
    "#3. Plot the .values() method of test_accuracies on the y-axis against neighbors on the x-axis, with a label of \"Testing Accuracy\".\n",
    "plt.plot(neighbors, test_accuracies.values(), label = 'Testing Accuracy')\n",
    "\n",
    "plt.show()"
   ],
   "id": "69e85c8f366fb313",
   "outputs": [
    {
     "data": {
      "text/plain": [
       "<Figure size 640x480 with 1 Axes>"
      ],
      "image/png": "[encoded data removed]"
     },
     "metadata": {},
     "output_type": "display_data"
    }
   ],
   "execution_count": 75
  },
  {
   "metadata": {},
   "cell_type": "markdown",
   "source": "REGRESSION",
   "id": "de19558d606faa9c"
  },
  {
   "metadata": {},
   "cell_type": "markdown",
   "source": [
    "Creating features\n",
    "\n",
    "\n",
    "\n",
    "\n",
    "\n",
    "In this chapter, you will work with a dataset called sales, which contains information on advertising campaign expenditure across different media types, and the number of dollars generated in sales for the respective campaign.\n",
    "\n",
    "You will use the advertising expenditure as features to predict sales values, initially working with the \"radio\" column. However, before you make any predictions you will need to create the feature and target arrays, reshaping them to the correct format for scikit-learn."
   ],
   "id": "1a56c470a06b1c2c"
  },
  {
   "metadata": {
    "ExecuteTime": {
     "end_time": "2025-07-02T22:59:37.043785Z",
     "start_time": "2025-07-02T22:59:37.028090Z"
    }
   },
   "cell_type": "code",
   "source": [
    "sales = pd.read_csv(\"C:/Users/Emigb/Documents/Data Science/datasets/advertising_and_sales_clean.csv\")\n",
    "print(sales.head())"
   ],
   "id": "733f42c2da595c25",
   "outputs": [
    {
     "name": "stdout",
     "output_type": "stream",
     "text": [
      "        tv     radio  social_media influencer      sales\n",
      "0  16000.0   6566.23       2907.98       Mega   54732.76\n",
      "1  13000.0   9237.76       2409.57       Mega   46677.90\n",
      "2  41000.0  15886.45       2913.41       Mega  150177.83\n",
      "3  83000.0  30020.03       6922.30       Mega  298246.34\n",
      "4  15000.0   8437.41       1406.00      Micro   56594.18\n"
     ]
    }
   ],
   "execution_count": 76
  },
  {
   "metadata": {
    "ExecuteTime": {
     "end_time": "2025-07-02T23:02:03.410365Z",
     "start_time": "2025-07-02T23:02:03.403432Z"
    }
   },
   "cell_type": "code",
   "source": [
    "#1. Create X_sal, an array of the values from the sales_df DataFrame's \"radio\" column.\n",
    "X_sal = sales['radio'].values\n",
    "\n",
    "#2. Create y_sal, an array of the values from the sales_df DataFrame's \"sales\" column.\n",
    "y_sal = sales['sales'].values\n",
    "\n",
    "#3. Reshape X into a two-dimensional NumPy array.\n",
    "X_sal = X_sal.reshape(-1,1)\n",
    "\n",
    "#4. Print the shape of X and y.\n",
    "print(X_sal.shape)"
   ],
   "id": "dbbaef8b12aefbd2",
   "outputs": [
    {
     "name": "stdout",
     "output_type": "stream",
     "text": [
      "(4546, 1)\n"
     ]
    }
   ],
   "execution_count": 82
  },
  {
   "metadata": {},
   "cell_type": "markdown",
   "source": [
    "Building a linear regression model\n",
    "\n",
    "\n",
    "\n",
    "\n",
    "Now you have created your feature and target arrays, you will train a linear regression model on all feature and target values.\n",
    "\n",
    "As the goal is to assess the relationship between the feature and target values there is no need to split the data into training and test sets."
   ],
   "id": "20dede612819b986"
  },
  {
   "metadata": {
    "ExecuteTime": {
     "end_time": "2025-07-02T23:02:20.337215Z",
     "start_time": "2025-07-02T23:02:20.327453Z"
    }
   },
   "cell_type": "code",
   "source": [
    "#1. Import LinearRegression.\n",
    "from sklearn.linear_model import LinearRegression\n",
    "\n",
    "X_sal.reshape(-1,1)\n",
    "\n",
    "#2. Instantiate a linear regression model.\n",
    "reg = LinearRegression()\n",
    "reg.fit(X_sal, y_sal)\n",
    "\n",
    "#3. Predict sales values using X-sal, storing as predictions.\n",
    "predictions = reg.predict(X_sal)\n",
    "\n",
    "print(predictions[:5])"
   ],
   "id": "2d442b9f933d8178",
   "outputs": [
    {
     "name": "stdout",
     "output_type": "stream",
     "text": [
      "[ 95491.17119147 117829.51038393 173423.38071499 291603.11444202\n",
      " 111137.28167129]\n"
     ]
    }
   ],
   "execution_count": 84
  },
  {
   "metadata": {},
   "cell_type": "code",
   "outputs": [],
   "execution_count": null,
   "source": "",
   "id": "7689c69d0aa9ece8"
  }
 ],
 "metadata": {
  "kernelspec": {
   "display_name": "Python 3",
   "language": "python",
   "name": "python3"
  },
  "language_info": {
   "codemirror_mode": {
    "name": "ipython",
    "version": 2
   },
   "file_extension": ".py",
   "mimetype": "text/x-python",
   "name": "python",
   "nbconvert_exporter": "python",
   "pygments_lexer": "ipython2",
   "version": "2.7.6"
  }
 },
 "nbformat": 4,
 "nbformat_minor": 5
}
